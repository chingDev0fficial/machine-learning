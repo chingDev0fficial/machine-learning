{
 "cells": [
  {
   "cell_type": "code",
   "execution_count": 1,
   "id": "55ea44f6-c662-4525-9af0-8818e11ff6eb",
   "metadata": {},
   "outputs": [],
   "source": [
    "import torch\n",
    "import torch.nn as nn\n",
    "import torch.nn.functional as F\n",
    "from torch_geometric.nn import GCNConv\n",
    "from torch_geometric.data import Data"
   ]
  },
  {
   "cell_type": "code",
   "execution_count": null,
   "id": "7c2a49f8-170a-4edd-bb14-1cdcf5a6cef8",
   "metadata": {},
   "outputs": [],
   "source": [
    "class SiameseNetwork(nn.Module):\n",
    "    def __init__(self, gae_model=None, latent_dim=128, fc_hidden=256):\n",
    "        super().__init__()\n",
    "        # Use pre-trained GAE or create new one\n",
    "        self.gae = gae_model\n",
    "        self.latent_dim = latent_dim\n",
    "        self.pooling = pooling\n",
    "        \n",
    "        # Post-processing layers for similarity computation\n",
    "        self.fc1 = nn.Linear(latent_dim * 2, fc_hidden)\n",
    "        self.fc2 = nn.Linear(fc_hidden, fc_hidden // 2)\n",
    "        self.fc3 = nn.Linear(fc_hidden // 2, 1)\n",
    "        \n",
    "        self.dropout = nn.Dropout(0.3)\n",
    "\n",
    "        self.gae = None # gae model here\n",
    "        \n",
    "    def forward_one(self, z):\n",
    "        # Global pooling to get graph-level embedding\n",
    "        graph_embedding = self.gae.encode(z.x, z.edge_index)\n",
    "        return graph_embedding\n",
    "    \n",
    "    def forward(self, z1, z2):\n",
    "        # Pool node embeddings to graph-level\n",
    "        emb1 = self.forward_one(z1)  # [1, 128]\n",
    "        emb2 = self.forward_one(z2)  # [1, 128]\n",
    "        \n",
    "        # Concatenate embeddings\n",
    "        combined = torch.cat([emb1, emb2], dim=1)  # [1, 256]\n",
    "        \n",
    "        # Pass through FC layers\n",
    "        x = F.relu(self.fc1(combined))\n",
    "        x = self.dropout(x)\n",
    "        x = F.relu(self.fc2(x))\n",
    "        x = self.dropout(x)\n",
    "        x = torch.sigmoid(self.fc3(x))\n",
    "        \n",
    "        return x, emb1, emb2"
   ]
  }
 ],
 "metadata": {
  "kernelspec": {
   "display_name": "Python (venv)",
   "language": "python",
   "name": "venv"
  },
  "language_info": {
   "codemirror_mode": {
    "name": "ipython",
    "version": 3
   },
   "file_extension": ".py",
   "mimetype": "text/x-python",
   "name": "python",
   "nbconvert_exporter": "python",
   "pygments_lexer": "ipython3",
   "version": "3.9.13"
  }
 },
 "nbformat": 4,
 "nbformat_minor": 5
}
