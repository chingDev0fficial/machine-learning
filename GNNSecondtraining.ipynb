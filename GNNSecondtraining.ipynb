{
 "cells": [
  {
   "cell_type": "code",
   "execution_count": 2,
   "id": "6d4378e1-7d15-4e9b-81d7-4db343171e68",
   "metadata": {},
   "outputs": [],
   "source": [
    "import torch\n",
    "from torch import Tensor\n",
    "from torchvision import transforms\n",
    "from torch_geometric.nn import GCNConv, global_mean_pool\n",
    "import torch.nn.functional as F\n",
    "from torch.utils.data import random_split\n",
    "from torch_geometric.loader import DataLoader\n",
    "from torch_geometric.data import Data\n",
    "from torch_geometric.utils import negative_sampling\n",
    "from torch.utils.tensorboard import SummaryWriter\n",
    "import torch.nn as nn\n",
    "from tqdm import tqdm\n",
    "\n",
    "import os\n",
    "from PIL import Image\n",
    "from torch.utils.data import Dataset\n",
    "\n",
    "import torch.nn.functional as F\n",
    "import numpy as np\n",
    "from sklearn.feature_extraction import image\n",
    "import cv2\n",
    "from typing import Tuple, Optional, Union\n",
    "\n",
    "import kagglehub\n",
    "\n",
    "from lib.lib import SignatureDataset, image_to_graph\n",
    "from torch_geometric.nn import GAE"
   ]
  },
  {
   "cell_type": "code",
   "execution_count": 3,
   "id": "8e11c622-4da3-42c4-b46f-1374c9b1d97e",
   "metadata": {},
   "outputs": [],
   "source": [
    "# Hyperparameters\n",
    "learning_rate = 1e-3\n",
    "batch_size = 32  # Changed to match your DataLoader batch_size\n",
    "epochs = 50\n",
    "device = torch.device('cuda' if torch.cuda.is_available() else 'cpu')"
   ]
  },
  {
   "cell_type": "code",
   "execution_count": 4,
   "id": "65c3b71c-8153-466d-897b-186ee7ff5720",
   "metadata": {},
   "outputs": [],
   "source": [
    "class SignatureGNN(torch.nn.Module):\n",
    "    def __init__(self, in_channels, hidden_channels, embedding_dim):\n",
    "        super().__init__()\n",
    "        self.conv1 = GCNConv(in_channels, hidden_channels)\n",
    "        self.conv2 = GCNConv(hidden_channels, hidden_channels)\n",
    "        self.conv3 = GCNConv(hidden_channels, embedding_dim)\n",
    "        \n",
    "    def forward(self, x: Tensor, edge_index: Tensor, batch: Optional[Tensor] = None) -> Tensor:\n",
    "        \"\"\"\n",
    "        x: Node features [num_nodes, in_channels]\n",
    "        edge_index: Graph edges [2, num_edges]\n",
    "        batch: Graph IDs for mini-batch training [num_nodes] - not used for GAE\n",
    "        \"\"\"\n",
    "        x = self.conv1(x, edge_index).relu()\n",
    "        x = self.conv2(x, edge_index).relu()\n",
    "        x = self.conv3(x, edge_index)\n",
    "        \n",
    "        # Return node-level embeddings for GAE\n",
    "        # Do NOT use global_mean_pool for GAE - it needs node embeddings\n",
    "        return x  # [num_nodes, embedding_dim]"
   ]
  },
  {
   "cell_type": "code",
   "execution_count": 5,
   "id": "1cc59917-7cf2-4c5c-9279-91571d872a83",
   "metadata": {},
   "outputs": [
    {
     "name": "stdout",
     "output_type": "stream",
     "text": [
      "Loaded 14626 signature images (genuine + forged)\n"
     ]
    }
   ],
   "source": [
    "def dataset_path():\n",
    "    path = kagglehub.dataset_download(\"akashgundu/signature-verification-dataset\")\n",
    "    return os.path.join(path, 'extract')\n",
    "\n",
    "def transform(**kwargs):\n",
    "    return transforms.Compose([\n",
    "        transforms.Grayscale(num_output_channels=kwargs['num_output_channels']),\n",
    "        transforms.Resize(kwargs['resize']),\n",
    "        transforms.ToTensor(),\n",
    "    ])\n",
    "\n",
    "dataset = SignatureDataset(\n",
    "    root_dir=dataset_path(),\n",
    "    transform=transform(num_output_channels=1, resize=(150, 150))\n",
    ")"
   ]
  },
  {
   "cell_type": "code",
   "execution_count": 6,
   "id": "939c43dd-25c0-4ad4-8e17-71bc36e6ac39",
   "metadata": {},
   "outputs": [
    {
     "name": "stdout",
     "output_type": "stream",
     "text": [
      "Dataset sizes - Train: 11700, Validation: 2926\n"
     ]
    }
   ],
   "source": [
    "total_size = len(dataset)\n",
    "train_size = int(0.8 * total_size)\n",
    "val_size = total_size - train_size\n",
    "train_dataset, val_dataset = random_split(\n",
    "    dataset,\n",
    "    [train_size, val_size],\n",
    "    generator=torch.Generator().manual_seed(42)\n",
    ")\n",
    "print(f\"Dataset sizes - Train: {train_size}, Validation: {val_size}\")"
   ]
  },
  {
   "cell_type": "code",
   "execution_count": 7,
   "id": "75f03342-a546-4cf0-abc7-fc1f970d3b65",
   "metadata": {},
   "outputs": [
    {
     "name": "stderr",
     "output_type": "stream",
     "text": [
      "2926it [11:48,  4.13it/s]\n"
     ]
    }
   ],
   "source": [
    "train_graph = []\n",
    "val_graph = []\n",
    "\n",
    "for t, v in tqdm(zip(train_dataset, val_dataset)):\n",
    "    for train_tensor_image, val_tensor_image in zip(t, v):\n",
    "        t_graph = image_to_graph(train_tensor_image)\n",
    "        v_graph = image_to_graph(val_tensor_image)\n",
    "        train_graph.append(t_graph)\n",
    "        val_graph.append(v_graph)"
   ]
  },
  {
   "cell_type": "code",
   "execution_count": 8,
   "id": "88428cc5-9288-4da7-8e36-cf9c322864b9",
   "metadata": {},
   "outputs": [],
   "source": [
    "train_graph = DataLoader(train_graph, batch_size=batch_size, shuffle=True)\n",
    "val_graph = DataLoader(val_graph, batch_size=batch_size, shuffle=False)"
   ]
  },
  {
   "cell_type": "code",
   "execution_count": 12,
   "id": "d10f8dec-a373-4496-8c44-76ab6edc5d16",
   "metadata": {},
   "outputs": [],
   "source": [
    "from sklearn.metrics import roc_auc_score, average_precision_score\n",
    "from torch_geometric.utils import negative_sampling\n",
    "from datetime import datetime\n",
    "\n",
    "# Create unique writer for each run\n",
    "timestamp = datetime.now().strftime(\"%Y%m%d_%H%M%S\")\n",
    "writer = SummaryWriter(f'runs/gae_experiment_{timestamp}')\n",
    "\n",
    "def train_loop(model, graphs, val_graphs, lr, epochs=50, batch=None):\n",
    "    optimizer = torch.optim.SGD(model.parameters(), lr=lr, momentum=0.9, weight_decay=1e-4)\n",
    "    \n",
    "    for epoch in range(epochs):\n",
    "        model.train()\n",
    "        total_loss = 0\n",
    "        \n",
    "        for graph in tqdm(graphs):\n",
    "            optimizer.zero_grad()  # Move BEFORE forward pass\n",
    "            \n",
    "            # For individual graphs, don't pass batch parameter\n",
    "            z = model.encode(graph.x, graph.edge_index)\n",
    "            loss = model.recon_loss(z, graph.edge_index)\n",
    "            \n",
    "            loss.backward()\n",
    "            optimizer.step()\n",
    "            total_loss += loss.item()\n",
    "        \n",
    "        # Calculate average training loss\n",
    "        avg_train_loss = total_loss / len(graphs)\n",
    "        \n",
    "        # Validation phase\n",
    "        model.eval()\n",
    "        total_val_loss = 0\n",
    "        total_auc = 0\n",
    "        total_ap = 0\n",
    "        \n",
    "        with torch.no_grad():\n",
    "            for val_graph in tqdm(val_graphs):\n",
    "                # For individual graphs, don't pass batch parameter\n",
    "                z = model.encode(val_graph.x, val_graph.edge_index)\n",
    "                val_loss = model.recon_loss(z, val_graph.edge_index)\n",
    "                total_val_loss += val_loss.item()\n",
    "\n",
    "                # Calculate link prediction accuracy\n",
    "                pos_edge_index = val_graph.edge_index\n",
    "                neg_edge_index = negative_sampling(\n",
    "                    pos_edge_index, \n",
    "                    num_nodes=val_graph.x.size(0),\n",
    "                    num_neg_samples=pos_edge_index.size(1)\n",
    "                )\n",
    "\n",
    "                # Get probabilities for positive and negative edges\n",
    "                pos_pred = model.decoder(z, pos_edge_index, sigmoid=True)\n",
    "                neg_pred = model.decoder(z, neg_edge_index, sigmoid=True)\n",
    "\n",
    "                # Create labels and predictions\n",
    "                y_true = torch.cat([torch.ones(pos_pred.size(0)), torch.zeros(neg_pred.size(0))])\n",
    "                y_pred = torch.cat([pos_pred, neg_pred])\n",
    "\n",
    "                # Calculate metrics - THIS IS WHERE AUC AND AP ARE COMPUTED\n",
    "                auc = roc_auc_score(y_true.cpu(), y_pred.cpu())\n",
    "                ap = average_precision_score(y_true.cpu(), y_pred.cpu())\n",
    "                \n",
    "                total_auc += auc\n",
    "                total_ap += ap\n",
    "                \n",
    "        # Calculate average validation loss\n",
    "        avg_val_loss = total_val_loss / len(val_graphs)\n",
    "\n",
    "        # Calculate averages\n",
    "        avg_auc = total_auc / len(val_graphs)\n",
    "        avg_ap = total_ap / len(val_graphs)\n",
    "        \n",
    "        # Log to TensorBoard (use averages, not last batch)\n",
    "        writer.add_scalar('Accuracy/AUC', avg_auc, epoch)\n",
    "        writer.add_scalar('Accuracy/AP', avg_ap, epoch)\n",
    "        writer.add_scalar('Loss/Train', avg_train_loss, epoch)\n",
    "        writer.add_scalar('Loss/Val', avg_val_loss, epoch)\n",
    "        \n",
    "        print(f'Epoch {epoch+1}, Train Loss: {avg_train_loss:.4f}, Val Loss: {avg_val_loss:.4f}, AUC: {avg_auc:.4f}, AP: {avg_ap:.4f}')\n",
    "    \n",
    "    writer.close()\n",
    "    return model"
   ]
  },
  {
   "cell_type": "code",
   "execution_count": null,
   "id": "00783293-c600-414f-8e4c-7d8fc203ac87",
   "metadata": {},
   "outputs": [
    {
     "name": "stderr",
     "output_type": "stream",
     "text": [
      "100%|██████████████████████████████████████████████████████████████████████████████████| 92/92 [00:52<00:00,  1.76it/s]\n",
      "100%|██████████████████████████████████████████████████████████████████████████████████| 92/92 [00:42<00:00,  2.15it/s]\n"
     ]
    },
    {
     "name": "stdout",
     "output_type": "stream",
     "text": [
      "Epoch 1, Train Loss: 1.0582, Val Loss: 1.0601, AUC: 0.8702, AP: 0.8362\n"
     ]
    },
    {
     "name": "stderr",
     "output_type": "stream",
     "text": [
      "100%|██████████████████████████████████████████████████████████████████████████████████| 92/92 [00:48<00:00,  1.88it/s]\n",
      "100%|██████████████████████████████████████████████████████████████████████████████████| 92/92 [00:41<00:00,  2.23it/s]\n"
     ]
    },
    {
     "name": "stdout",
     "output_type": "stream",
     "text": [
      "Epoch 2, Train Loss: 1.0586, Val Loss: 1.0591, AUC: 0.8695, AP: 0.8343\n"
     ]
    },
    {
     "name": "stderr",
     "output_type": "stream",
     "text": [
      "100%|██████████████████████████████████████████████████████████████████████████████████| 92/92 [00:48<00:00,  1.89it/s]\n",
      "100%|██████████████████████████████████████████████████████████████████████████████████| 92/92 [00:41<00:00,  2.22it/s]\n"
     ]
    },
    {
     "name": "stdout",
     "output_type": "stream",
     "text": [
      "Epoch 3, Train Loss: 1.0584, Val Loss: 1.0575, AUC: 0.8706, AP: 0.8363\n"
     ]
    },
    {
     "name": "stderr",
     "output_type": "stream",
     "text": [
      "100%|██████████████████████████████████████████████████████████████████████████████████| 92/92 [00:52<00:00,  1.75it/s]\n",
      "100%|██████████████████████████████████████████████████████████████████████████████████| 92/92 [00:41<00:00,  2.21it/s]\n"
     ]
    },
    {
     "name": "stdout",
     "output_type": "stream",
     "text": [
      "Epoch 4, Train Loss: 1.0580, Val Loss: 1.0568, AUC: 0.8710, AP: 0.8368\n"
     ]
    },
    {
     "name": "stderr",
     "output_type": "stream",
     "text": [
      "100%|██████████████████████████████████████████████████████████████████████████████████| 92/92 [00:52<00:00,  1.77it/s]\n",
      "100%|██████████████████████████████████████████████████████████████████████████████████| 92/92 [00:42<00:00,  2.18it/s]\n"
     ]
    },
    {
     "name": "stdout",
     "output_type": "stream",
     "text": [
      "Epoch 5, Train Loss: 1.0585, Val Loss: 1.0581, AUC: 0.8703, AP: 0.8352\n"
     ]
    },
    {
     "name": "stderr",
     "output_type": "stream",
     "text": [
      "100%|██████████████████████████████████████████████████████████████████████████████████| 92/92 [00:52<00:00,  1.75it/s]\n",
      "100%|██████████████████████████████████████████████████████████████████████████████████| 92/92 [00:41<00:00,  2.19it/s]\n"
     ]
    },
    {
     "name": "stdout",
     "output_type": "stream",
     "text": [
      "Epoch 6, Train Loss: 1.0579, Val Loss: 1.0567, AUC: 0.8710, AP: 0.8366\n"
     ]
    },
    {
     "name": "stderr",
     "output_type": "stream",
     "text": [
      "100%|██████████████████████████████████████████████████████████████████████████████████| 92/92 [00:52<00:00,  1.77it/s]\n",
      "100%|██████████████████████████████████████████████████████████████████████████████████| 92/92 [00:42<00:00,  2.17it/s]\n"
     ]
    },
    {
     "name": "stdout",
     "output_type": "stream",
     "text": [
      "Epoch 7, Train Loss: 1.0578, Val Loss: 1.0592, AUC: 0.8710, AP: 0.8373\n"
     ]
    },
    {
     "name": "stderr",
     "output_type": "stream",
     "text": [
      "100%|██████████████████████████████████████████████████████████████████████████████████| 92/92 [00:51<00:00,  1.78it/s]\n",
      "100%|██████████████████████████████████████████████████████████████████████████████████| 92/92 [00:42<00:00,  2.18it/s]\n"
     ]
    },
    {
     "name": "stdout",
     "output_type": "stream",
     "text": [
      "Epoch 8, Train Loss: 1.0571, Val Loss: 1.0563, AUC: 0.8713, AP: 0.8370\n"
     ]
    },
    {
     "name": "stderr",
     "output_type": "stream",
     "text": [
      "100%|██████████████████████████████████████████████████████████████████████████████████| 92/92 [00:50<00:00,  1.82it/s]\n",
      "100%|██████████████████████████████████████████████████████████████████████████████████| 92/92 [00:42<00:00,  2.16it/s]\n"
     ]
    },
    {
     "name": "stdout",
     "output_type": "stream",
     "text": [
      "Epoch 9, Train Loss: 1.0573, Val Loss: 1.0594, AUC: 0.8707, AP: 0.8359\n"
     ]
    },
    {
     "name": "stderr",
     "output_type": "stream",
     "text": [
      "100%|██████████████████████████████████████████████████████████████████████████████████| 92/92 [00:52<00:00,  1.77it/s]\n",
      "100%|██████████████████████████████████████████████████████████████████████████████████| 92/92 [00:42<00:00,  2.15it/s]\n"
     ]
    },
    {
     "name": "stdout",
     "output_type": "stream",
     "text": [
      "Epoch 10, Train Loss: 1.0579, Val Loss: 1.0579, AUC: 0.8706, AP: 0.8356\n"
     ]
    },
    {
     "name": "stderr",
     "output_type": "stream",
     "text": [
      "100%|██████████████████████████████████████████████████████████████████████████████████| 92/92 [00:52<00:00,  1.74it/s]\n",
      "100%|██████████████████████████████████████████████████████████████████████████████████| 92/92 [00:42<00:00,  2.16it/s]\n"
     ]
    },
    {
     "name": "stdout",
     "output_type": "stream",
     "text": [
      "Epoch 11, Train Loss: 1.0568, Val Loss: 1.0564, AUC: 0.8723, AP: 0.8384\n"
     ]
    },
    {
     "name": "stderr",
     "output_type": "stream",
     "text": [
      "100%|██████████████████████████████████████████████████████████████████████████████████| 92/92 [00:52<00:00,  1.76it/s]\n",
      "100%|██████████████████████████████████████████████████████████████████████████████████| 92/92 [00:41<00:00,  2.19it/s]\n"
     ]
    },
    {
     "name": "stdout",
     "output_type": "stream",
     "text": [
      "Epoch 12, Train Loss: 1.0565, Val Loss: 1.0564, AUC: 0.8712, AP: 0.8365\n"
     ]
    },
    {
     "name": "stderr",
     "output_type": "stream",
     "text": [
      "100%|██████████████████████████████████████████████████████████████████████████████████| 92/92 [00:52<00:00,  1.76it/s]\n",
      "100%|██████████████████████████████████████████████████████████████████████████████████| 92/92 [00:42<00:00,  2.15it/s]\n"
     ]
    },
    {
     "name": "stdout",
     "output_type": "stream",
     "text": [
      "Epoch 13, Train Loss: 1.0566, Val Loss: 1.0560, AUC: 0.8724, AP: 0.8386\n"
     ]
    },
    {
     "name": "stderr",
     "output_type": "stream",
     "text": [
      "100%|██████████████████████████████████████████████████████████████████████████████████| 92/92 [00:49<00:00,  1.85it/s]\n",
      "100%|██████████████████████████████████████████████████████████████████████████████████| 92/92 [00:41<00:00,  2.22it/s]\n"
     ]
    },
    {
     "name": "stdout",
     "output_type": "stream",
     "text": [
      "Epoch 14, Train Loss: 1.0586, Val Loss: 1.0570, AUC: 0.8716, AP: 0.8372\n"
     ]
    },
    {
     "name": "stderr",
     "output_type": "stream",
     "text": [
      "100%|██████████████████████████████████████████████████████████████████████████████████| 92/92 [00:52<00:00,  1.76it/s]\n",
      "100%|██████████████████████████████████████████████████████████████████████████████████| 92/92 [00:41<00:00,  2.20it/s]\n"
     ]
    },
    {
     "name": "stdout",
     "output_type": "stream",
     "text": [
      "Epoch 15, Train Loss: 1.0570, Val Loss: 1.0554, AUC: 0.8721, AP: 0.8379\n"
     ]
    },
    {
     "name": "stderr",
     "output_type": "stream",
     "text": [
      "100%|██████████████████████████████████████████████████████████████████████████████████| 92/92 [00:50<00:00,  1.82it/s]\n",
      "100%|██████████████████████████████████████████████████████████████████████████████████| 92/92 [00:42<00:00,  2.19it/s]\n"
     ]
    },
    {
     "name": "stdout",
     "output_type": "stream",
     "text": [
      "Epoch 16, Train Loss: 1.0568, Val Loss: 1.0556, AUC: 0.8715, AP: 0.8369\n"
     ]
    },
    {
     "name": "stderr",
     "output_type": "stream",
     "text": [
      "100%|██████████████████████████████████████████████████████████████████████████████████| 92/92 [00:51<00:00,  1.77it/s]\n",
      "100%|██████████████████████████████████████████████████████████████████████████████████| 92/92 [00:42<00:00,  2.18it/s]\n"
     ]
    },
    {
     "name": "stdout",
     "output_type": "stream",
     "text": [
      "Epoch 17, Train Loss: 1.0564, Val Loss: 1.0552, AUC: 0.8723, AP: 0.8382\n"
     ]
    },
    {
     "name": "stderr",
     "output_type": "stream",
     "text": [
      "100%|██████████████████████████████████████████████████████████████████████████████████| 92/92 [00:52<00:00,  1.77it/s]\n",
      "100%|██████████████████████████████████████████████████████████████████████████████████| 92/92 [00:42<00:00,  2.17it/s]\n"
     ]
    },
    {
     "name": "stdout",
     "output_type": "stream",
     "text": [
      "Epoch 18, Train Loss: 1.0558, Val Loss: 1.0553, AUC: 0.8722, AP: 0.8383\n"
     ]
    },
    {
     "name": "stderr",
     "output_type": "stream",
     "text": [
      "100%|██████████████████████████████████████████████████████████████████████████████████| 92/92 [00:52<00:00,  1.74it/s]\n",
      "100%|██████████████████████████████████████████████████████████████████████████████████| 92/92 [00:42<00:00,  2.16it/s]\n"
     ]
    },
    {
     "name": "stdout",
     "output_type": "stream",
     "text": [
      "Epoch 19, Train Loss: 1.0564, Val Loss: 1.0567, AUC: 0.8714, AP: 0.8360\n"
     ]
    },
    {
     "name": "stderr",
     "output_type": "stream",
     "text": [
      "100%|██████████████████████████████████████████████████████████████████████████████████| 92/92 [00:52<00:00,  1.74it/s]\n",
      "100%|██████████████████████████████████████████████████████████████████████████████████| 92/92 [00:42<00:00,  2.18it/s]\n"
     ]
    },
    {
     "name": "stdout",
     "output_type": "stream",
     "text": [
      "Epoch 20, Train Loss: 1.0563, Val Loss: 1.0553, AUC: 0.8722, AP: 0.8379\n"
     ]
    },
    {
     "name": "stderr",
     "output_type": "stream",
     "text": [
      "100%|██████████████████████████████████████████████████████████████████████████████████| 92/92 [00:52<00:00,  1.74it/s]\n",
      "100%|██████████████████████████████████████████████████████████████████████████████████| 92/92 [00:42<00:00,  2.16it/s]\n"
     ]
    },
    {
     "name": "stdout",
     "output_type": "stream",
     "text": [
      "Epoch 21, Train Loss: 1.0558, Val Loss: 1.0552, AUC: 0.8724, AP: 0.8378\n"
     ]
    },
    {
     "name": "stderr",
     "output_type": "stream",
     "text": [
      "100%|██████████████████████████████████████████████████████████████████████████████████| 92/92 [00:52<00:00,  1.75it/s]\n",
      "100%|██████████████████████████████████████████████████████████████████████████████████| 92/92 [00:42<00:00,  2.18it/s]\n"
     ]
    },
    {
     "name": "stdout",
     "output_type": "stream",
     "text": [
      "Epoch 22, Train Loss: 1.0566, Val Loss: 1.0557, AUC: 0.8728, AP: 0.8388\n"
     ]
    },
    {
     "name": "stderr",
     "output_type": "stream",
     "text": [
      "100%|██████████████████████████████████████████████████████████████████████████████████| 92/92 [00:52<00:00,  1.75it/s]\n",
      "100%|██████████████████████████████████████████████████████████████████████████████████| 92/92 [00:42<00:00,  2.19it/s]\n"
     ]
    },
    {
     "name": "stdout",
     "output_type": "stream",
     "text": [
      "Epoch 23, Train Loss: 1.0559, Val Loss: 1.0551, AUC: 0.8720, AP: 0.8373\n"
     ]
    },
    {
     "name": "stderr",
     "output_type": "stream",
     "text": [
      "100%|██████████████████████████████████████████████████████████████████████████████████| 92/92 [00:52<00:00,  1.76it/s]\n",
      "100%|██████████████████████████████████████████████████████████████████████████████████| 92/92 [00:43<00:00,  2.13it/s]\n"
     ]
    },
    {
     "name": "stdout",
     "output_type": "stream",
     "text": [
      "Epoch 24, Train Loss: 1.0553, Val Loss: 1.0548, AUC: 0.8724, AP: 0.8376\n"
     ]
    },
    {
     "name": "stderr",
     "output_type": "stream",
     "text": [
      "100%|██████████████████████████████████████████████████████████████████████████████████| 92/92 [00:52<00:00,  1.75it/s]\n",
      "100%|██████████████████████████████████████████████████████████████████████████████████| 92/92 [00:42<00:00,  2.16it/s]\n"
     ]
    },
    {
     "name": "stdout",
     "output_type": "stream",
     "text": [
      "Epoch 25, Train Loss: 1.0552, Val Loss: 1.0557, AUC: 0.8738, AP: 0.8404\n"
     ]
    },
    {
     "name": "stderr",
     "output_type": "stream",
     "text": [
      "100%|██████████████████████████████████████████████████████████████████████████████████| 92/92 [00:52<00:00,  1.77it/s]\n",
      "100%|██████████████████████████████████████████████████████████████████████████████████| 92/92 [00:41<00:00,  2.20it/s]\n"
     ]
    },
    {
     "name": "stdout",
     "output_type": "stream",
     "text": [
      "Epoch 26, Train Loss: 1.0557, Val Loss: 1.0543, AUC: 0.8734, AP: 0.8395\n"
     ]
    },
    {
     "name": "stderr",
     "output_type": "stream",
     "text": [
      "100%|██████████████████████████████████████████████████████████████████████████████████| 92/92 [00:52<00:00,  1.76it/s]\n",
      "100%|██████████████████████████████████████████████████████████████████████████████████| 92/92 [00:42<00:00,  2.16it/s]\n"
     ]
    },
    {
     "name": "stdout",
     "output_type": "stream",
     "text": [
      "Epoch 27, Train Loss: 1.0557, Val Loss: 1.0579, AUC: 0.8711, AP: 0.8354\n"
     ]
    },
    {
     "name": "stderr",
     "output_type": "stream",
     "text": [
      "100%|██████████████████████████████████████████████████████████████████████████████████| 92/92 [00:52<00:00,  1.76it/s]\n",
      "100%|██████████████████████████████████████████████████████████████████████████████████| 92/92 [00:42<00:00,  2.17it/s]\n"
     ]
    },
    {
     "name": "stdout",
     "output_type": "stream",
     "text": [
      "Epoch 28, Train Loss: 1.0550, Val Loss: 1.0544, AUC: 0.8723, AP: 0.8375\n"
     ]
    },
    {
     "name": "stderr",
     "output_type": "stream",
     "text": [
      "100%|██████████████████████████████████████████████████████████████████████████████████| 92/92 [00:52<00:00,  1.74it/s]\n",
      "100%|██████████████████████████████████████████████████████████████████████████████████| 92/92 [00:41<00:00,  2.19it/s]\n"
     ]
    },
    {
     "name": "stdout",
     "output_type": "stream",
     "text": [
      "Epoch 29, Train Loss: 1.0548, Val Loss: 1.0546, AUC: 0.8730, AP: 0.8385\n"
     ]
    },
    {
     "name": "stderr",
     "output_type": "stream",
     "text": [
      "100%|██████████████████████████████████████████████████████████████████████████████████| 92/92 [00:49<00:00,  1.86it/s]\n",
      "100%|██████████████████████████████████████████████████████████████████████████████████| 92/92 [00:41<00:00,  2.19it/s]\n"
     ]
    },
    {
     "name": "stdout",
     "output_type": "stream",
     "text": [
      "Epoch 30, Train Loss: 1.0548, Val Loss: 1.0546, AUC: 0.8735, AP: 0.8396\n"
     ]
    },
    {
     "name": "stderr",
     "output_type": "stream",
     "text": [
      "100%|██████████████████████████████████████████████████████████████████████████████████| 92/92 [00:52<00:00,  1.77it/s]\n",
      "100%|██████████████████████████████████████████████████████████████████████████████████| 92/92 [00:41<00:00,  2.20it/s]\n"
     ]
    },
    {
     "name": "stdout",
     "output_type": "stream",
     "text": [
      "Epoch 31, Train Loss: 1.0552, Val Loss: 1.0539, AUC: 0.8724, AP: 0.8373\n"
     ]
    },
    {
     "name": "stderr",
     "output_type": "stream",
     "text": [
      "100%|██████████████████████████████████████████████████████████████████████████████████| 92/92 [00:52<00:00,  1.75it/s]\n",
      "100%|██████████████████████████████████████████████████████████████████████████████████| 92/92 [00:41<00:00,  2.23it/s]\n"
     ]
    },
    {
     "name": "stdout",
     "output_type": "stream",
     "text": [
      "Epoch 32, Train Loss: 1.0544, Val Loss: 1.0542, AUC: 0.8734, AP: 0.8388\n"
     ]
    },
    {
     "name": "stderr",
     "output_type": "stream",
     "text": [
      "100%|██████████████████████████████████████████████████████████████████████████████████| 92/92 [00:49<00:00,  1.84it/s]\n",
      "100%|██████████████████████████████████████████████████████████████████████████████████| 92/92 [00:41<00:00,  2.19it/s]\n"
     ]
    },
    {
     "name": "stdout",
     "output_type": "stream",
     "text": [
      "Epoch 33, Train Loss: 1.0547, Val Loss: 1.0563, AUC: 0.8728, AP: 0.8378\n"
     ]
    },
    {
     "name": "stderr",
     "output_type": "stream",
     "text": [
      "100%|██████████████████████████████████████████████████████████████████████████████████| 92/92 [00:51<00:00,  1.80it/s]\n",
      "100%|██████████████████████████████████████████████████████████████████████████████████| 92/92 [00:42<00:00,  2.18it/s]\n"
     ]
    },
    {
     "name": "stdout",
     "output_type": "stream",
     "text": [
      "Epoch 34, Train Loss: 1.0548, Val Loss: 1.0539, AUC: 0.8734, AP: 0.8389\n"
     ]
    },
    {
     "name": "stderr",
     "output_type": "stream",
     "text": [
      "100%|██████████████████████████████████████████████████████████████████████████████████| 92/92 [00:51<00:00,  1.77it/s]\n",
      "100%|██████████████████████████████████████████████████████████████████████████████████| 92/92 [00:42<00:00,  2.16it/s]\n"
     ]
    },
    {
     "name": "stdout",
     "output_type": "stream",
     "text": [
      "Epoch 35, Train Loss: 1.0542, Val Loss: 1.0537, AUC: 0.8730, AP: 0.8384\n"
     ]
    },
    {
     "name": "stderr",
     "output_type": "stream",
     "text": [
      "100%|██████████████████████████████████████████████████████████████████████████████████| 92/92 [00:49<00:00,  1.84it/s]\n",
      "100%|██████████████████████████████████████████████████████████████████████████████████| 92/92 [00:42<00:00,  2.17it/s]\n"
     ]
    },
    {
     "name": "stdout",
     "output_type": "stream",
     "text": [
      "Epoch 36, Train Loss: 1.0537, Val Loss: 1.0543, AUC: 0.8739, AP: 0.8396\n"
     ]
    },
    {
     "name": "stderr",
     "output_type": "stream",
     "text": [
      "100%|██████████████████████████████████████████████████████████████████████████████████| 92/92 [00:50<00:00,  1.81it/s]\n",
      "100%|██████████████████████████████████████████████████████████████████████████████████| 92/92 [00:42<00:00,  2.19it/s]\n"
     ]
    },
    {
     "name": "stdout",
     "output_type": "stream",
     "text": [
      "Epoch 37, Train Loss: 1.0531, Val Loss: 1.0537, AUC: 0.8731, AP: 0.8383\n"
     ]
    },
    {
     "name": "stderr",
     "output_type": "stream",
     "text": [
      "100%|██████████████████████████████████████████████████████████████████████████████████| 92/92 [00:52<00:00,  1.74it/s]\n",
      "100%|██████████████████████████████████████████████████████████████████████████████████| 92/92 [00:42<00:00,  2.18it/s]\n"
     ]
    },
    {
     "name": "stdout",
     "output_type": "stream",
     "text": [
      "Epoch 38, Train Loss: 1.0540, Val Loss: 1.0533, AUC: 0.8743, AP: 0.8405\n"
     ]
    },
    {
     "name": "stderr",
     "output_type": "stream",
     "text": [
      "100%|██████████████████████████████████████████████████████████████████████████████████| 92/92 [00:51<00:00,  1.78it/s]\n",
      "100%|██████████████████████████████████████████████████████████████████████████████████| 92/92 [00:42<00:00,  2.15it/s]\n"
     ]
    },
    {
     "name": "stdout",
     "output_type": "stream",
     "text": [
      "Epoch 39, Train Loss: 1.0541, Val Loss: 1.0544, AUC: 0.8742, AP: 0.8404\n"
     ]
    },
    {
     "name": "stderr",
     "output_type": "stream",
     "text": [
      "100%|██████████████████████████████████████████████████████████████████████████████████| 92/92 [00:51<00:00,  1.78it/s]\n",
      "100%|██████████████████████████████████████████████████████████████████████████████████| 92/92 [00:41<00:00,  2.21it/s]\n"
     ]
    },
    {
     "name": "stdout",
     "output_type": "stream",
     "text": [
      "Epoch 40, Train Loss: 1.0546, Val Loss: 1.0541, AUC: 0.8738, AP: 0.8396\n"
     ]
    },
    {
     "name": "stderr",
     "output_type": "stream",
     "text": [
      "100%|██████████████████████████████████████████████████████████████████████████████████| 92/92 [00:51<00:00,  1.77it/s]\n",
      "100%|██████████████████████████████████████████████████████████████████████████████████| 92/92 [00:42<00:00,  2.16it/s]\n"
     ]
    },
    {
     "name": "stdout",
     "output_type": "stream",
     "text": [
      "Epoch 41, Train Loss: 1.0544, Val Loss: 1.0542, AUC: 0.8735, AP: 0.8387\n"
     ]
    },
    {
     "name": "stderr",
     "output_type": "stream",
     "text": [
      "100%|██████████████████████████████████████████████████████████████████████████████████| 92/92 [00:51<00:00,  1.78it/s]\n",
      "100%|██████████████████████████████████████████████████████████████████████████████████| 92/92 [00:42<00:00,  2.17it/s]\n"
     ]
    },
    {
     "name": "stdout",
     "output_type": "stream",
     "text": [
      "Epoch 42, Train Loss: 1.0544, Val Loss: 1.0537, AUC: 0.8732, AP: 0.8383\n"
     ]
    },
    {
     "name": "stderr",
     "output_type": "stream",
     "text": [
      "100%|██████████████████████████████████████████████████████████████████████████████████| 92/92 [00:50<00:00,  1.81it/s]\n",
      "100%|██████████████████████████████████████████████████████████████████████████████████| 92/92 [00:41<00:00,  2.23it/s]\n"
     ]
    },
    {
     "name": "stdout",
     "output_type": "stream",
     "text": [
      "Epoch 43, Train Loss: 1.0539, Val Loss: 1.0570, AUC: 0.8719, AP: 0.8359\n"
     ]
    },
    {
     "name": "stderr",
     "output_type": "stream",
     "text": [
      "100%|██████████████████████████████████████████████████████████████████████████████████| 92/92 [00:48<00:00,  1.89it/s]\n",
      "100%|██████████████████████████████████████████████████████████████████████████████████| 92/92 [00:41<00:00,  2.22it/s]\n"
     ]
    },
    {
     "name": "stdout",
     "output_type": "stream",
     "text": [
      "Epoch 44, Train Loss: 1.0547, Val Loss: 1.0535, AUC: 0.8738, AP: 0.8391\n"
     ]
    },
    {
     "name": "stderr",
     "output_type": "stream",
     "text": [
      "100%|██████████████████████████████████████████████████████████████████████████████████| 92/92 [00:49<00:00,  1.85it/s]\n",
      "100%|██████████████████████████████████████████████████████████████████████████████████| 92/92 [00:43<00:00,  2.12it/s]\n"
     ]
    },
    {
     "name": "stdout",
     "output_type": "stream",
     "text": [
      "Epoch 45, Train Loss: 1.0535, Val Loss: 1.0541, AUC: 0.8743, AP: 0.8399\n"
     ]
    },
    {
     "name": "stderr",
     "output_type": "stream",
     "text": [
      "100%|██████████████████████████████████████████████████████████████████████████████████| 92/92 [00:53<00:00,  1.72it/s]\n",
      "100%|██████████████████████████████████████████████████████████████████████████████████| 92/92 [00:43<00:00,  2.13it/s]\n"
     ]
    },
    {
     "name": "stdout",
     "output_type": "stream",
     "text": [
      "Epoch 46, Train Loss: 1.0543, Val Loss: 1.0532, AUC: 0.8739, AP: 0.8396\n"
     ]
    },
    {
     "name": "stderr",
     "output_type": "stream",
     "text": [
      "100%|██████████████████████████████████████████████████████████████████████████████████| 92/92 [00:51<00:00,  1.78it/s]\n",
      "100%|██████████████████████████████████████████████████████████████████████████████████| 92/92 [00:42<00:00,  2.18it/s]\n"
     ]
    },
    {
     "name": "stdout",
     "output_type": "stream",
     "text": [
      "Epoch 47, Train Loss: 1.0533, Val Loss: 1.0547, AUC: 0.8730, AP: 0.8378\n"
     ]
    },
    {
     "name": "stderr",
     "output_type": "stream",
     "text": [
      "100%|██████████████████████████████████████████████████████████████████████████████████| 92/92 [00:50<00:00,  1.83it/s]\n",
      "100%|██████████████████████████████████████████████████████████████████████████████████| 92/92 [00:42<00:00,  2.19it/s]\n"
     ]
    },
    {
     "name": "stdout",
     "output_type": "stream",
     "text": [
      "Epoch 48, Train Loss: 1.0538, Val Loss: 1.0523, AUC: 0.8744, AP: 0.8399\n"
     ]
    },
    {
     "name": "stderr",
     "output_type": "stream",
     "text": [
      "100%|██████████████████████████████████████████████████████████████████████████████████| 92/92 [00:50<00:00,  1.81it/s]\n",
      "100%|██████████████████████████████████████████████████████████████████████████████████| 92/92 [00:42<00:00,  2.15it/s]\n"
     ]
    },
    {
     "name": "stdout",
     "output_type": "stream",
     "text": [
      "Epoch 49, Train Loss: 1.0534, Val Loss: 1.0540, AUC: 0.8743, AP: 0.8399\n"
     ]
    },
    {
     "name": "stderr",
     "output_type": "stream",
     "text": [
      "100%|██████████████████████████████████████████████████████████████████████████████████| 92/92 [00:52<00:00,  1.76it/s]\n",
      "100%|██████████████████████████████████████████████████████████████████████████████████| 92/92 [00:42<00:00,  2.16it/s]\n"
     ]
    },
    {
     "name": "stdout",
     "output_type": "stream",
     "text": [
      "Epoch 50, Train Loss: 1.0534, Val Loss: 1.0534, AUC: 0.8737, AP: 0.8387\n"
     ]
    },
    {
     "name": "stderr",
     "output_type": "stream",
     "text": [
      "100%|██████████████████████████████████████████████████████████████████████████████████| 92/92 [00:52<00:00,  1.76it/s]\n",
      "100%|██████████████████████████████████████████████████████████████████████████████████| 92/92 [00:42<00:00,  2.17it/s]\n"
     ]
    },
    {
     "name": "stdout",
     "output_type": "stream",
     "text": [
      "Epoch 51, Train Loss: 1.0534, Val Loss: 1.0533, AUC: 0.8749, AP: 0.8411\n"
     ]
    },
    {
     "name": "stderr",
     "output_type": "stream",
     "text": [
      "100%|██████████████████████████████████████████████████████████████████████████████████| 92/92 [00:52<00:00,  1.76it/s]\n",
      "100%|██████████████████████████████████████████████████████████████████████████████████| 92/92 [00:42<00:00,  2.17it/s]\n"
     ]
    },
    {
     "name": "stdout",
     "output_type": "stream",
     "text": [
      "Epoch 52, Train Loss: 1.0529, Val Loss: 1.0541, AUC: 0.8733, AP: 0.8380\n"
     ]
    },
    {
     "name": "stderr",
     "output_type": "stream",
     "text": [
      "100%|██████████████████████████████████████████████████████████████████████████████████| 92/92 [00:52<00:00,  1.76it/s]\n",
      "100%|██████████████████████████████████████████████████████████████████████████████████| 92/92 [00:42<00:00,  2.16it/s]\n"
     ]
    },
    {
     "name": "stdout",
     "output_type": "stream",
     "text": [
      "Epoch 53, Train Loss: 1.0530, Val Loss: 1.0535, AUC: 0.8739, AP: 0.8387\n"
     ]
    },
    {
     "name": "stderr",
     "output_type": "stream",
     "text": [
      "100%|██████████████████████████████████████████████████████████████████████████████████| 92/92 [00:52<00:00,  1.76it/s]\n",
      "100%|██████████████████████████████████████████████████████████████████████████████████| 92/92 [00:42<00:00,  2.17it/s]\n"
     ]
    },
    {
     "name": "stdout",
     "output_type": "stream",
     "text": [
      "Epoch 54, Train Loss: 1.0530, Val Loss: 1.0559, AUC: 0.8743, AP: 0.8403\n"
     ]
    },
    {
     "name": "stderr",
     "output_type": "stream",
     "text": [
      "100%|██████████████████████████████████████████████████████████████████████████████████| 92/92 [00:51<00:00,  1.77it/s]\n",
      "100%|██████████████████████████████████████████████████████████████████████████████████| 92/92 [00:42<00:00,  2.17it/s]\n"
     ]
    },
    {
     "name": "stdout",
     "output_type": "stream",
     "text": [
      "Epoch 55, Train Loss: 1.0530, Val Loss: 1.0528, AUC: 0.8738, AP: 0.8386\n"
     ]
    },
    {
     "name": "stderr",
     "output_type": "stream",
     "text": [
      "100%|██████████████████████████████████████████████████████████████████████████████████| 92/92 [00:52<00:00,  1.74it/s]\n",
      "100%|██████████████████████████████████████████████████████████████████████████████████| 92/92 [00:42<00:00,  2.15it/s]\n"
     ]
    },
    {
     "name": "stdout",
     "output_type": "stream",
     "text": [
      "Epoch 56, Train Loss: 1.0527, Val Loss: 1.0527, AUC: 0.8751, AP: 0.8411\n"
     ]
    },
    {
     "name": "stderr",
     "output_type": "stream",
     "text": [
      "100%|██████████████████████████████████████████████████████████████████████████████████| 92/92 [00:52<00:00,  1.76it/s]\n",
      "100%|██████████████████████████████████████████████████████████████████████████████████| 92/92 [00:43<00:00,  2.10it/s]\n"
     ]
    },
    {
     "name": "stdout",
     "output_type": "stream",
     "text": [
      "Epoch 57, Train Loss: 1.0540, Val Loss: 1.0532, AUC: 0.8752, AP: 0.8409\n"
     ]
    },
    {
     "name": "stderr",
     "output_type": "stream",
     "text": [
      "100%|██████████████████████████████████████████████████████████████████████████████████| 92/92 [00:52<00:00,  1.75it/s]\n",
      "100%|██████████████████████████████████████████████████████████████████████████████████| 92/92 [00:42<00:00,  2.15it/s]\n"
     ]
    },
    {
     "name": "stdout",
     "output_type": "stream",
     "text": [
      "Epoch 58, Train Loss: 1.0533, Val Loss: 1.0517, AUC: 0.8743, AP: 0.8396\n"
     ]
    },
    {
     "name": "stderr",
     "output_type": "stream",
     "text": [
      "100%|██████████████████████████████████████████████████████████████████████████████████| 92/92 [00:52<00:00,  1.76it/s]\n",
      "100%|██████████████████████████████████████████████████████████████████████████████████| 92/92 [00:42<00:00,  2.16it/s]\n"
     ]
    },
    {
     "name": "stdout",
     "output_type": "stream",
     "text": [
      "Epoch 59, Train Loss: 1.0523, Val Loss: 1.0518, AUC: 0.8748, AP: 0.8405\n"
     ]
    },
    {
     "name": "stderr",
     "output_type": "stream",
     "text": [
      "100%|██████████████████████████████████████████████████████████████████████████████████| 92/92 [00:52<00:00,  1.75it/s]\n",
      "100%|██████████████████████████████████████████████████████████████████████████████████| 92/92 [00:43<00:00,  2.14it/s]\n"
     ]
    },
    {
     "name": "stdout",
     "output_type": "stream",
     "text": [
      "Epoch 60, Train Loss: 1.0532, Val Loss: 1.0518, AUC: 0.8746, AP: 0.8405\n"
     ]
    },
    {
     "name": "stderr",
     "output_type": "stream",
     "text": [
      "100%|██████████████████████████████████████████████████████████████████████████████████| 92/92 [00:52<00:00,  1.74it/s]\n",
      "100%|██████████████████████████████████████████████████████████████████████████████████| 92/92 [00:42<00:00,  2.16it/s]\n"
     ]
    },
    {
     "name": "stdout",
     "output_type": "stream",
     "text": [
      "Epoch 61, Train Loss: 1.0525, Val Loss: 1.0523, AUC: 0.8755, AP: 0.8413\n"
     ]
    },
    {
     "name": "stderr",
     "output_type": "stream",
     "text": [
      "100%|██████████████████████████████████████████████████████████████████████████████████| 92/92 [00:52<00:00,  1.75it/s]\n",
      "100%|██████████████████████████████████████████████████████████████████████████████████| 92/92 [00:42<00:00,  2.15it/s]\n"
     ]
    },
    {
     "name": "stdout",
     "output_type": "stream",
     "text": [
      "Epoch 62, Train Loss: 1.0530, Val Loss: 1.0525, AUC: 0.8749, AP: 0.8400\n"
     ]
    },
    {
     "name": "stderr",
     "output_type": "stream",
     "text": [
      "100%|██████████████████████████████████████████████████████████████████████████████████| 92/92 [00:52<00:00,  1.76it/s]\n",
      "100%|██████████████████████████████████████████████████████████████████████████████████| 92/92 [00:42<00:00,  2.15it/s]\n"
     ]
    },
    {
     "name": "stdout",
     "output_type": "stream",
     "text": [
      "Epoch 63, Train Loss: 1.0532, Val Loss: 1.0522, AUC: 0.8752, AP: 0.8408\n"
     ]
    },
    {
     "name": "stderr",
     "output_type": "stream",
     "text": [
      "100%|██████████████████████████████████████████████████████████████████████████████████| 92/92 [00:51<00:00,  1.78it/s]\n",
      "100%|██████████████████████████████████████████████████████████████████████████████████| 92/92 [00:42<00:00,  2.15it/s]\n"
     ]
    },
    {
     "name": "stdout",
     "output_type": "stream",
     "text": [
      "Epoch 64, Train Loss: 1.0528, Val Loss: 1.0520, AUC: 0.8745, AP: 0.8395\n"
     ]
    },
    {
     "name": "stderr",
     "output_type": "stream",
     "text": [
      "100%|██████████████████████████████████████████████████████████████████████████████████| 92/92 [00:52<00:00,  1.76it/s]\n",
      "100%|██████████████████████████████████████████████████████████████████████████████████| 92/92 [00:42<00:00,  2.17it/s]\n"
     ]
    },
    {
     "name": "stdout",
     "output_type": "stream",
     "text": [
      "Epoch 65, Train Loss: 1.0529, Val Loss: 1.0513, AUC: 0.8751, AP: 0.8404\n"
     ]
    },
    {
     "name": "stderr",
     "output_type": "stream",
     "text": [
      "100%|██████████████████████████████████████████████████████████████████████████████████| 92/92 [00:52<00:00,  1.76it/s]\n",
      "100%|██████████████████████████████████████████████████████████████████████████████████| 92/92 [00:42<00:00,  2.16it/s]\n"
     ]
    },
    {
     "name": "stdout",
     "output_type": "stream",
     "text": [
      "Epoch 66, Train Loss: 1.0529, Val Loss: 1.0543, AUC: 0.8735, AP: 0.8380\n"
     ]
    },
    {
     "name": "stderr",
     "output_type": "stream",
     "text": [
      "100%|██████████████████████████████████████████████████████████████████████████████████| 92/92 [00:52<00:00,  1.75it/s]\n",
      "100%|██████████████████████████████████████████████████████████████████████████████████| 92/92 [00:42<00:00,  2.16it/s]\n"
     ]
    },
    {
     "name": "stdout",
     "output_type": "stream",
     "text": [
      "Epoch 67, Train Loss: 1.0530, Val Loss: 1.0521, AUC: 0.8757, AP: 0.8419\n"
     ]
    },
    {
     "name": "stderr",
     "output_type": "stream",
     "text": [
      "100%|██████████████████████████████████████████████████████████████████████████████████| 92/92 [00:51<00:00,  1.78it/s]\n",
      "100%|██████████████████████████████████████████████████████████████████████████████████| 92/92 [00:42<00:00,  2.15it/s]\n"
     ]
    },
    {
     "name": "stdout",
     "output_type": "stream",
     "text": [
      "Epoch 68, Train Loss: 1.0543, Val Loss: 1.0563, AUC: 0.8758, AP: 0.8430\n"
     ]
    },
    {
     "name": "stderr",
     "output_type": "stream",
     "text": [
      "100%|██████████████████████████████████████████████████████████████████████████████████| 92/92 [00:52<00:00,  1.74it/s]\n",
      "100%|██████████████████████████████████████████████████████████████████████████████████| 92/92 [00:42<00:00,  2.14it/s]\n"
     ]
    },
    {
     "name": "stdout",
     "output_type": "stream",
     "text": [
      "Epoch 69, Train Loss: 1.0529, Val Loss: 1.0515, AUC: 0.8747, AP: 0.8398\n"
     ]
    },
    {
     "name": "stderr",
     "output_type": "stream",
     "text": [
      "100%|██████████████████████████████████████████████████████████████████████████████████| 92/92 [00:52<00:00,  1.75it/s]\n",
      "100%|██████████████████████████████████████████████████████████████████████████████████| 92/92 [00:43<00:00,  2.12it/s]\n"
     ]
    },
    {
     "name": "stdout",
     "output_type": "stream",
     "text": [
      "Epoch 70, Train Loss: 1.0526, Val Loss: 1.0517, AUC: 0.8755, AP: 0.8414\n"
     ]
    },
    {
     "name": "stderr",
     "output_type": "stream",
     "text": [
      "100%|██████████████████████████████████████████████████████████████████████████████████| 92/92 [00:52<00:00,  1.76it/s]\n",
      "100%|██████████████████████████████████████████████████████████████████████████████████| 92/92 [00:42<00:00,  2.17it/s]\n"
     ]
    },
    {
     "name": "stdout",
     "output_type": "stream",
     "text": [
      "Epoch 71, Train Loss: 1.0521, Val Loss: 1.0520, AUC: 0.8760, AP: 0.8423\n"
     ]
    },
    {
     "name": "stderr",
     "output_type": "stream",
     "text": [
      "100%|██████████████████████████████████████████████████████████████████████████████████| 92/92 [00:50<00:00,  1.82it/s]\n",
      "100%|██████████████████████████████████████████████████████████████████████████████████| 92/92 [00:42<00:00,  2.17it/s]\n"
     ]
    },
    {
     "name": "stdout",
     "output_type": "stream",
     "text": [
      "Epoch 72, Train Loss: 1.0523, Val Loss: 1.0517, AUC: 0.8759, AP: 0.8416\n"
     ]
    },
    {
     "name": "stderr",
     "output_type": "stream",
     "text": [
      "100%|██████████████████████████████████████████████████████████████████████████████████| 92/92 [00:52<00:00,  1.76it/s]\n",
      "100%|██████████████████████████████████████████████████████████████████████████████████| 92/92 [00:42<00:00,  2.19it/s]\n"
     ]
    },
    {
     "name": "stdout",
     "output_type": "stream",
     "text": [
      "Epoch 73, Train Loss: 1.0537, Val Loss: 1.0517, AUC: 0.8746, AP: 0.8393\n"
     ]
    },
    {
     "name": "stderr",
     "output_type": "stream",
     "text": [
      "100%|██████████████████████████████████████████████████████████████████████████████████| 92/92 [00:52<00:00,  1.75it/s]\n",
      "100%|██████████████████████████████████████████████████████████████████████████████████| 92/92 [00:43<00:00,  2.11it/s]\n"
     ]
    },
    {
     "name": "stdout",
     "output_type": "stream",
     "text": [
      "Epoch 74, Train Loss: 1.0517, Val Loss: 1.0514, AUC: 0.8760, AP: 0.8420\n"
     ]
    },
    {
     "name": "stderr",
     "output_type": "stream",
     "text": [
      "100%|██████████████████████████████████████████████████████████████████████████████████| 92/92 [00:50<00:00,  1.82it/s]\n",
      "100%|██████████████████████████████████████████████████████████████████████████████████| 92/92 [00:41<00:00,  2.20it/s]\n"
     ]
    },
    {
     "name": "stdout",
     "output_type": "stream",
     "text": [
      "Epoch 75, Train Loss: 1.0528, Val Loss: 1.0517, AUC: 0.8755, AP: 0.8412\n"
     ]
    },
    {
     "name": "stderr",
     "output_type": "stream",
     "text": [
      "100%|██████████████████████████████████████████████████████████████████████████████████| 92/92 [00:52<00:00,  1.75it/s]\n",
      "100%|██████████████████████████████████████████████████████████████████████████████████| 92/92 [00:42<00:00,  2.18it/s]\n"
     ]
    },
    {
     "name": "stdout",
     "output_type": "stream",
     "text": [
      "Epoch 76, Train Loss: 1.0542, Val Loss: 1.0611, AUC: 0.8717, AP: 0.8353\n"
     ]
    },
    {
     "name": "stderr",
     "output_type": "stream",
     "text": [
      "100%|██████████████████████████████████████████████████████████████████████████████████| 92/92 [00:51<00:00,  1.79it/s]\n",
      "100%|██████████████████████████████████████████████████████████████████████████████████| 92/92 [00:41<00:00,  2.21it/s]\n"
     ]
    },
    {
     "name": "stdout",
     "output_type": "stream",
     "text": [
      "Epoch 77, Train Loss: 1.0535, Val Loss: 1.0528, AUC: 0.8748, AP: 0.8394\n"
     ]
    },
    {
     "name": "stderr",
     "output_type": "stream",
     "text": [
      "100%|██████████████████████████████████████████████████████████████████████████████████| 92/92 [00:50<00:00,  1.83it/s]\n",
      "100%|██████████████████████████████████████████████████████████████████████████████████| 92/92 [00:42<00:00,  2.17it/s]\n"
     ]
    },
    {
     "name": "stdout",
     "output_type": "stream",
     "text": [
      "Epoch 78, Train Loss: 1.0529, Val Loss: 1.0506, AUC: 0.8755, AP: 0.8409\n"
     ]
    },
    {
     "name": "stderr",
     "output_type": "stream",
     "text": [
      "100%|██████████████████████████████████████████████████████████████████████████████████| 92/92 [00:51<00:00,  1.79it/s]\n",
      "100%|██████████████████████████████████████████████████████████████████████████████████| 92/92 [00:41<00:00,  2.22it/s]\n"
     ]
    },
    {
     "name": "stdout",
     "output_type": "stream",
     "text": [
      "Epoch 79, Train Loss: 1.0518, Val Loss: 1.0509, AUC: 0.8752, AP: 0.8403\n"
     ]
    },
    {
     "name": "stderr",
     "output_type": "stream",
     "text": [
      "100%|██████████████████████████████████████████████████████████████████████████████████| 92/92 [00:50<00:00,  1.81it/s]\n",
      "100%|██████████████████████████████████████████████████████████████████████████████████| 92/92 [00:41<00:00,  2.22it/s]\n"
     ]
    },
    {
     "name": "stdout",
     "output_type": "stream",
     "text": [
      "Epoch 80, Train Loss: 1.0531, Val Loss: 1.0520, AUC: 0.8753, AP: 0.8405\n"
     ]
    },
    {
     "name": "stderr",
     "output_type": "stream",
     "text": [
      "100%|██████████████████████████████████████████████████████████████████████████████████| 92/92 [00:49<00:00,  1.88it/s]\n",
      "100%|██████████████████████████████████████████████████████████████████████████████████| 92/92 [00:41<00:00,  2.21it/s]\n"
     ]
    },
    {
     "name": "stdout",
     "output_type": "stream",
     "text": [
      "Epoch 81, Train Loss: 1.0523, Val Loss: 1.0519, AUC: 0.8751, AP: 0.8400\n"
     ]
    },
    {
     "name": "stderr",
     "output_type": "stream",
     "text": [
      "100%|██████████████████████████████████████████████████████████████████████████████████| 92/92 [00:51<00:00,  1.78it/s]\n",
      "100%|██████████████████████████████████████████████████████████████████████████████████| 92/92 [00:42<00:00,  2.17it/s]\n"
     ]
    },
    {
     "name": "stdout",
     "output_type": "stream",
     "text": [
      "Epoch 82, Train Loss: 1.0516, Val Loss: 1.0522, AUC: 0.8758, AP: 0.8419\n"
     ]
    },
    {
     "name": "stderr",
     "output_type": "stream",
     "text": [
      "100%|██████████████████████████████████████████████████████████████████████████████████| 92/92 [00:50<00:00,  1.81it/s]\n",
      "100%|██████████████████████████████████████████████████████████████████████████████████| 92/92 [00:41<00:00,  2.20it/s]\n"
     ]
    },
    {
     "name": "stdout",
     "output_type": "stream",
     "text": [
      "Epoch 83, Train Loss: 1.0522, Val Loss: 1.0518, AUC: 0.8759, AP: 0.8417\n"
     ]
    },
    {
     "name": "stderr",
     "output_type": "stream",
     "text": [
      "100%|██████████████████████████████████████████████████████████████████████████████████| 92/92 [00:49<00:00,  1.88it/s]\n",
      "100%|██████████████████████████████████████████████████████████████████████████████████| 92/92 [00:41<00:00,  2.21it/s]\n"
     ]
    },
    {
     "name": "stdout",
     "output_type": "stream",
     "text": [
      "Epoch 84, Train Loss: 1.0520, Val Loss: 1.0512, AUC: 0.8753, AP: 0.8404\n"
     ]
    },
    {
     "name": "stderr",
     "output_type": "stream",
     "text": [
      "100%|██████████████████████████████████████████████████████████████████████████████████| 92/92 [00:50<00:00,  1.82it/s]\n",
      "100%|██████████████████████████████████████████████████████████████████████████████████| 92/92 [00:42<00:00,  2.17it/s]\n"
     ]
    },
    {
     "name": "stdout",
     "output_type": "stream",
     "text": [
      "Epoch 85, Train Loss: 1.0517, Val Loss: 1.0508, AUC: 0.8754, AP: 0.8405\n"
     ]
    },
    {
     "name": "stderr",
     "output_type": "stream",
     "text": [
      "100%|██████████████████████████████████████████████████████████████████████████████████| 92/92 [00:50<00:00,  1.82it/s]\n",
      "100%|██████████████████████████████████████████████████████████████████████████████████| 92/92 [00:41<00:00,  2.22it/s]\n"
     ]
    },
    {
     "name": "stdout",
     "output_type": "stream",
     "text": [
      "Epoch 86, Train Loss: 1.0519, Val Loss: 1.0509, AUC: 0.8753, AP: 0.8404\n"
     ]
    },
    {
     "name": "stderr",
     "output_type": "stream",
     "text": [
      "100%|██████████████████████████████████████████████████████████████████████████████████| 92/92 [00:52<00:00,  1.77it/s]\n",
      "100%|██████████████████████████████████████████████████████████████████████████████████| 92/92 [00:42<00:00,  2.18it/s]\n"
     ]
    },
    {
     "name": "stdout",
     "output_type": "stream",
     "text": [
      "Epoch 87, Train Loss: 1.0514, Val Loss: 1.0512, AUC: 0.8757, AP: 0.8411\n"
     ]
    },
    {
     "name": "stderr",
     "output_type": "stream",
     "text": [
      "100%|██████████████████████████████████████████████████████████████████████████████████| 92/92 [00:50<00:00,  1.81it/s]\n",
      "100%|██████████████████████████████████████████████████████████████████████████████████| 92/92 [00:41<00:00,  2.20it/s]\n"
     ]
    },
    {
     "name": "stdout",
     "output_type": "stream",
     "text": [
      "Epoch 88, Train Loss: 1.0511, Val Loss: 1.0511, AUC: 0.8763, AP: 0.8418\n"
     ]
    },
    {
     "name": "stderr",
     "output_type": "stream",
     "text": [
      "100%|██████████████████████████████████████████████████████████████████████████████████| 92/92 [00:52<00:00,  1.77it/s]\n",
      "100%|██████████████████████████████████████████████████████████████████████████████████| 92/92 [00:42<00:00,  2.15it/s]\n"
     ]
    },
    {
     "name": "stdout",
     "output_type": "stream",
     "text": [
      "Epoch 89, Train Loss: 1.0512, Val Loss: 1.0513, AUC: 0.8755, AP: 0.8407\n"
     ]
    },
    {
     "name": "stderr",
     "output_type": "stream",
     "text": [
      "100%|██████████████████████████████████████████████████████████████████████████████████| 92/92 [00:50<00:00,  1.83it/s]\n",
      "100%|██████████████████████████████████████████████████████████████████████████████████| 92/92 [00:44<00:00,  2.07it/s]\n"
     ]
    },
    {
     "name": "stdout",
     "output_type": "stream",
     "text": [
      "Epoch 90, Train Loss: 1.0531, Val Loss: 1.0592, AUC: 0.8725, AP: 0.8360\n"
     ]
    },
    {
     "name": "stderr",
     "output_type": "stream",
     "text": [
      "100%|██████████████████████████████████████████████████████████████████████████████████| 92/92 [00:48<00:00,  1.88it/s]\n",
      "100%|██████████████████████████████████████████████████████████████████████████████████| 92/92 [00:41<00:00,  2.21it/s]\n"
     ]
    },
    {
     "name": "stdout",
     "output_type": "stream",
     "text": [
      "Epoch 91, Train Loss: 1.0522, Val Loss: 1.0510, AUC: 0.8761, AP: 0.8412\n"
     ]
    },
    {
     "name": "stderr",
     "output_type": "stream",
     "text": [
      "100%|██████████████████████████████████████████████████████████████████████████████████| 92/92 [00:48<00:00,  1.89it/s]\n",
      "100%|██████████████████████████████████████████████████████████████████████████████████| 92/92 [00:41<00:00,  2.22it/s]\n"
     ]
    },
    {
     "name": "stdout",
     "output_type": "stream",
     "text": [
      "Epoch 92, Train Loss: 1.0513, Val Loss: 1.0557, AUC: 0.8736, AP: 0.8376\n"
     ]
    },
    {
     "name": "stderr",
     "output_type": "stream",
     "text": [
      "100%|██████████████████████████████████████████████████████████████████████████████████| 92/92 [00:52<00:00,  1.76it/s]\n",
      "100%|██████████████████████████████████████████████████████████████████████████████████| 92/92 [00:42<00:00,  2.15it/s]\n"
     ]
    },
    {
     "name": "stdout",
     "output_type": "stream",
     "text": [
      "Epoch 93, Train Loss: 1.0521, Val Loss: 1.0516, AUC: 0.8752, AP: 0.8400\n"
     ]
    },
    {
     "name": "stderr",
     "output_type": "stream",
     "text": [
      "100%|██████████████████████████████████████████████████████████████████████████████████| 92/92 [00:49<00:00,  1.87it/s]\n",
      "100%|██████████████████████████████████████████████████████████████████████████████████| 92/92 [00:42<00:00,  2.17it/s]\n"
     ]
    },
    {
     "name": "stdout",
     "output_type": "stream",
     "text": [
      "Epoch 94, Train Loss: 1.0521, Val Loss: 1.0502, AUC: 0.8769, AP: 0.8429\n"
     ]
    },
    {
     "name": "stderr",
     "output_type": "stream",
     "text": [
      "100%|██████████████████████████████████████████████████████████████████████████████████| 92/92 [00:52<00:00,  1.77it/s]\n",
      "100%|██████████████████████████████████████████████████████████████████████████████████| 92/92 [00:41<00:00,  2.22it/s]\n"
     ]
    },
    {
     "name": "stdout",
     "output_type": "stream",
     "text": [
      "Epoch 95, Train Loss: 1.0517, Val Loss: 1.0524, AUC: 0.8750, AP: 0.8396\n"
     ]
    },
    {
     "name": "stderr",
     "output_type": "stream",
     "text": [
      "100%|██████████████████████████████████████████████████████████████████████████████████| 92/92 [00:48<00:00,  1.90it/s]\n",
      "100%|██████████████████████████████████████████████████████████████████████████████████| 92/92 [00:41<00:00,  2.19it/s]\n"
     ]
    },
    {
     "name": "stdout",
     "output_type": "stream",
     "text": [
      "Epoch 96, Train Loss: 1.0509, Val Loss: 1.0506, AUC: 0.8759, AP: 0.8408\n"
     ]
    },
    {
     "name": "stderr",
     "output_type": "stream",
     "text": [
      "100%|██████████████████████████████████████████████████████████████████████████████████| 92/92 [00:52<00:00,  1.77it/s]\n",
      "100%|██████████████████████████████████████████████████████████████████████████████████| 92/92 [00:42<00:00,  2.16it/s]\n"
     ]
    },
    {
     "name": "stdout",
     "output_type": "stream",
     "text": [
      "Epoch 97, Train Loss: 1.0527, Val Loss: 1.0513, AUC: 0.8754, AP: 0.8404\n"
     ]
    },
    {
     "name": "stderr",
     "output_type": "stream",
     "text": [
      "100%|██████████████████████████████████████████████████████████████████████████████████| 92/92 [00:51<00:00,  1.78it/s]\n",
      "100%|██████████████████████████████████████████████████████████████████████████████████| 92/92 [00:41<00:00,  2.20it/s]\n"
     ]
    },
    {
     "name": "stdout",
     "output_type": "stream",
     "text": [
      "Epoch 98, Train Loss: 1.0517, Val Loss: 1.0507, AUC: 0.8766, AP: 0.8422\n"
     ]
    },
    {
     "name": "stderr",
     "output_type": "stream",
     "text": [
      "100%|██████████████████████████████████████████████████████████████████████████████████| 92/92 [00:52<00:00,  1.74it/s]\n",
      "100%|██████████████████████████████████████████████████████████████████████████████████| 92/92 [00:42<00:00,  2.16it/s]\n"
     ]
    },
    {
     "name": "stdout",
     "output_type": "stream",
     "text": [
      "Epoch 99, Train Loss: 1.0519, Val Loss: 1.0513, AUC: 0.8759, AP: 0.8406\n"
     ]
    },
    {
     "name": "stderr",
     "output_type": "stream",
     "text": [
      "100%|██████████████████████████████████████████████████████████████████████████████████| 92/92 [00:50<00:00,  1.81it/s]\n",
      "100%|██████████████████████████████████████████████████████████████████████████████████| 92/92 [00:41<00:00,  2.20it/s]\n"
     ]
    },
    {
     "name": "stdout",
     "output_type": "stream",
     "text": [
      "Epoch 100, Train Loss: 1.0521, Val Loss: 1.0526, AUC: 0.8750, AP: 0.8394\n"
     ]
    },
    {
     "name": "stderr",
     "output_type": "stream",
     "text": [
      "100%|██████████████████████████████████████████████████████████████████████████████████| 92/92 [00:52<00:00,  1.76it/s]\n",
      "100%|██████████████████████████████████████████████████████████████████████████████████| 92/92 [00:42<00:00,  2.18it/s]\n"
     ]
    },
    {
     "name": "stdout",
     "output_type": "stream",
     "text": [
      "Epoch 101, Train Loss: 1.0514, Val Loss: 1.0510, AUC: 0.8758, AP: 0.8413\n"
     ]
    },
    {
     "name": "stderr",
     "output_type": "stream",
     "text": [
      "100%|██████████████████████████████████████████████████████████████████████████████████| 92/92 [00:52<00:00,  1.76it/s]\n",
      "100%|██████████████████████████████████████████████████████████████████████████████████| 92/92 [00:42<00:00,  2.18it/s]\n"
     ]
    },
    {
     "name": "stdout",
     "output_type": "stream",
     "text": [
      "Epoch 102, Train Loss: 1.0519, Val Loss: 1.0522, AUC: 0.8751, AP: 0.8398\n"
     ]
    },
    {
     "name": "stderr",
     "output_type": "stream",
     "text": [
      "100%|██████████████████████████████████████████████████████████████████████████████████| 92/92 [00:50<00:00,  1.83it/s]\n",
      "100%|██████████████████████████████████████████████████████████████████████████████████| 92/92 [00:44<00:00,  2.07it/s]\n"
     ]
    },
    {
     "name": "stdout",
     "output_type": "stream",
     "text": [
      "Epoch 103, Train Loss: 1.0518, Val Loss: 1.0506, AUC: 0.8761, AP: 0.8418\n"
     ]
    },
    {
     "name": "stderr",
     "output_type": "stream",
     "text": [
      "100%|██████████████████████████████████████████████████████████████████████████████████| 92/92 [00:49<00:00,  1.87it/s]\n",
      "100%|██████████████████████████████████████████████████████████████████████████████████| 92/92 [00:42<00:00,  2.15it/s]\n"
     ]
    },
    {
     "name": "stdout",
     "output_type": "stream",
     "text": [
      "Epoch 104, Train Loss: 1.0516, Val Loss: 1.0502, AUC: 0.8765, AP: 0.8420\n"
     ]
    },
    {
     "name": "stderr",
     "output_type": "stream",
     "text": [
      "100%|██████████████████████████████████████████████████████████████████████████████████| 92/92 [00:48<00:00,  1.89it/s]\n",
      "100%|██████████████████████████████████████████████████████████████████████████████████| 92/92 [00:41<00:00,  2.21it/s]\n"
     ]
    },
    {
     "name": "stdout",
     "output_type": "stream",
     "text": [
      "Epoch 105, Train Loss: 1.0502, Val Loss: 1.0520, AUC: 0.8766, AP: 0.8429\n"
     ]
    },
    {
     "name": "stderr",
     "output_type": "stream",
     "text": [
      "100%|██████████████████████████████████████████████████████████████████████████████████| 92/92 [00:49<00:00,  1.86it/s]\n",
      "100%|██████████████████████████████████████████████████████████████████████████████████| 92/92 [00:41<00:00,  2.19it/s]\n"
     ]
    },
    {
     "name": "stdout",
     "output_type": "stream",
     "text": [
      "Epoch 106, Train Loss: 1.0507, Val Loss: 1.0501, AUC: 0.8756, AP: 0.8406\n"
     ]
    },
    {
     "name": "stderr",
     "output_type": "stream",
     "text": [
      "100%|██████████████████████████████████████████████████████████████████████████████████| 92/92 [00:49<00:00,  1.88it/s]\n",
      "100%|██████████████████████████████████████████████████████████████████████████████████| 92/92 [00:41<00:00,  2.20it/s]\n"
     ]
    },
    {
     "name": "stdout",
     "output_type": "stream",
     "text": [
      "Epoch 107, Train Loss: 1.0510, Val Loss: 1.0520, AUC: 0.8754, AP: 0.8398\n"
     ]
    },
    {
     "name": "stderr",
     "output_type": "stream",
     "text": [
      "100%|██████████████████████████████████████████████████████████████████████████████████| 92/92 [00:50<00:00,  1.84it/s]\n",
      "100%|██████████████████████████████████████████████████████████████████████████████████| 92/92 [00:41<00:00,  2.19it/s]\n"
     ]
    },
    {
     "name": "stdout",
     "output_type": "stream",
     "text": [
      "Epoch 108, Train Loss: 1.0506, Val Loss: 1.0550, AUC: 0.8749, AP: 0.8392\n"
     ]
    },
    {
     "name": "stderr",
     "output_type": "stream",
     "text": [
      "100%|██████████████████████████████████████████████████████████████████████████████████| 92/92 [00:51<00:00,  1.79it/s]\n",
      "100%|██████████████████████████████████████████████████████████████████████████████████| 92/92 [00:42<00:00,  2.18it/s]\n"
     ]
    },
    {
     "name": "stdout",
     "output_type": "stream",
     "text": [
      "Epoch 109, Train Loss: 1.0529, Val Loss: 1.0504, AUC: 0.8759, AP: 0.8411\n"
     ]
    },
    {
     "name": "stderr",
     "output_type": "stream",
     "text": [
      "100%|██████████████████████████████████████████████████████████████████████████████████| 92/92 [00:49<00:00,  1.87it/s]\n",
      "100%|██████████████████████████████████████████████████████████████████████████████████| 92/92 [00:41<00:00,  2.20it/s]\n"
     ]
    },
    {
     "name": "stdout",
     "output_type": "stream",
     "text": [
      "Epoch 110, Train Loss: 1.0507, Val Loss: 1.0514, AUC: 0.8755, AP: 0.8402\n"
     ]
    },
    {
     "name": "stderr",
     "output_type": "stream",
     "text": [
      "100%|██████████████████████████████████████████████████████████████████████████████████| 92/92 [00:51<00:00,  1.78it/s]\n",
      "100%|██████████████████████████████████████████████████████████████████████████████████| 92/92 [00:42<00:00,  2.19it/s]\n"
     ]
    },
    {
     "name": "stdout",
     "output_type": "stream",
     "text": [
      "Epoch 111, Train Loss: 1.0507, Val Loss: 1.0513, AUC: 0.8757, AP: 0.8406\n"
     ]
    },
    {
     "name": "stderr",
     "output_type": "stream",
     "text": [
      "100%|██████████████████████████████████████████████████████████████████████████████████| 92/92 [00:51<00:00,  1.78it/s]\n",
      "100%|██████████████████████████████████████████████████████████████████████████████████| 92/92 [00:41<00:00,  2.20it/s]\n"
     ]
    },
    {
     "name": "stdout",
     "output_type": "stream",
     "text": [
      "Epoch 112, Train Loss: 1.0515, Val Loss: 1.0497, AUC: 0.8769, AP: 0.8427\n"
     ]
    },
    {
     "name": "stderr",
     "output_type": "stream",
     "text": [
      "100%|██████████████████████████████████████████████████████████████████████████████████| 92/92 [00:51<00:00,  1.77it/s]\n",
      "100%|██████████████████████████████████████████████████████████████████████████████████| 92/92 [00:42<00:00,  2.18it/s]\n"
     ]
    },
    {
     "name": "stdout",
     "output_type": "stream",
     "text": [
      "Epoch 113, Train Loss: 1.0521, Val Loss: 1.0500, AUC: 0.8763, AP: 0.8419\n"
     ]
    },
    {
     "name": "stderr",
     "output_type": "stream",
     "text": [
      "100%|██████████████████████████████████████████████████████████████████████████████████| 92/92 [00:52<00:00,  1.77it/s]\n",
      "100%|██████████████████████████████████████████████████████████████████████████████████| 92/92 [00:43<00:00,  2.13it/s]\n"
     ]
    },
    {
     "name": "stdout",
     "output_type": "stream",
     "text": [
      "Epoch 114, Train Loss: 1.0511, Val Loss: 1.0500, AUC: 0.8762, AP: 0.8414\n"
     ]
    },
    {
     "name": "stderr",
     "output_type": "stream",
     "text": [
      "100%|██████████████████████████████████████████████████████████████████████████████████| 92/92 [00:52<00:00,  1.76it/s]\n",
      "100%|██████████████████████████████████████████████████████████████████████████████████| 92/92 [00:42<00:00,  2.15it/s]\n"
     ]
    },
    {
     "name": "stdout",
     "output_type": "stream",
     "text": [
      "Epoch 115, Train Loss: 1.0506, Val Loss: 1.0591, AUC: 0.8731, AP: 0.8366\n"
     ]
    },
    {
     "name": "stderr",
     "output_type": "stream",
     "text": [
      "100%|██████████████████████████████████████████████████████████████████████████████████| 92/92 [00:51<00:00,  1.78it/s]\n",
      "100%|██████████████████████████████████████████████████████████████████████████████████| 92/92 [00:43<00:00,  2.11it/s]\n"
     ]
    },
    {
     "name": "stdout",
     "output_type": "stream",
     "text": [
      "Epoch 116, Train Loss: 1.0510, Val Loss: 1.0566, AUC: 0.8735, AP: 0.8375\n"
     ]
    },
    {
     "name": "stderr",
     "output_type": "stream",
     "text": [
      "100%|██████████████████████████████████████████████████████████████████████████████████| 92/92 [00:48<00:00,  1.89it/s]\n",
      "100%|██████████████████████████████████████████████████████████████████████████████████| 92/92 [00:36<00:00,  2.50it/s]\n"
     ]
    },
    {
     "name": "stdout",
     "output_type": "stream",
     "text": [
      "Epoch 117, Train Loss: 1.0513, Val Loss: 1.0536, AUC: 0.8763, AP: 0.8428\n"
     ]
    },
    {
     "name": "stderr",
     "output_type": "stream",
     "text": [
      "100%|██████████████████████████████████████████████████████████████████████████████████| 92/92 [00:46<00:00,  1.98it/s]\n",
      "100%|██████████████████████████████████████████████████████████████████████████████████| 92/92 [00:38<00:00,  2.38it/s]\n"
     ]
    },
    {
     "name": "stdout",
     "output_type": "stream",
     "text": [
      "Epoch 118, Train Loss: 1.0505, Val Loss: 1.0511, AUC: 0.8759, AP: 0.8406\n"
     ]
    },
    {
     "name": "stderr",
     "output_type": "stream",
     "text": [
      "100%|██████████████████████████████████████████████████████████████████████████████████| 92/92 [00:47<00:00,  1.93it/s]\n",
      "100%|██████████████████████████████████████████████████████████████████████████████████| 92/92 [00:39<00:00,  2.32it/s]\n"
     ]
    },
    {
     "name": "stdout",
     "output_type": "stream",
     "text": [
      "Epoch 119, Train Loss: 1.0521, Val Loss: 1.0502, AUC: 0.8776, AP: 0.8436\n"
     ]
    },
    {
     "name": "stderr",
     "output_type": "stream",
     "text": [
      "100%|██████████████████████████████████████████████████████████████████████████████████| 92/92 [00:46<00:00,  2.00it/s]\n",
      "100%|██████████████████████████████████████████████████████████████████████████████████| 92/92 [00:39<00:00,  2.32it/s]\n"
     ]
    },
    {
     "name": "stdout",
     "output_type": "stream",
     "text": [
      "Epoch 120, Train Loss: 1.0527, Val Loss: 1.0532, AUC: 0.8761, AP: 0.8407\n"
     ]
    },
    {
     "name": "stderr",
     "output_type": "stream",
     "text": [
      "100%|██████████████████████████████████████████████████████████████████████████████████| 92/92 [00:47<00:00,  1.92it/s]\n",
      "100%|██████████████████████████████████████████████████████████████████████████████████| 92/92 [00:43<00:00,  2.10it/s]\n"
     ]
    },
    {
     "name": "stdout",
     "output_type": "stream",
     "text": [
      "Epoch 121, Train Loss: 1.0517, Val Loss: 1.0516, AUC: 0.8770, AP: 0.8434\n"
     ]
    },
    {
     "name": "stderr",
     "output_type": "stream",
     "text": [
      "100%|██████████████████████████████████████████████████████████████████████████████████| 92/92 [00:51<00:00,  1.77it/s]\n",
      "100%|██████████████████████████████████████████████████████████████████████████████████| 92/92 [00:43<00:00,  2.11it/s]\n"
     ]
    },
    {
     "name": "stdout",
     "output_type": "stream",
     "text": [
      "Epoch 122, Train Loss: 1.0512, Val Loss: 1.0514, AUC: 0.8762, AP: 0.8410\n"
     ]
    },
    {
     "name": "stderr",
     "output_type": "stream",
     "text": [
      "100%|██████████████████████████████████████████████████████████████████████████████████| 92/92 [00:50<00:00,  1.82it/s]\n",
      "100%|██████████████████████████████████████████████████████████████████████████████████| 92/92 [00:39<00:00,  2.33it/s]\n"
     ]
    },
    {
     "name": "stdout",
     "output_type": "stream",
     "text": [
      "Epoch 123, Train Loss: 1.0493, Val Loss: 1.0532, AUC: 0.8748, AP: 0.8389\n"
     ]
    },
    {
     "name": "stderr",
     "output_type": "stream",
     "text": [
      " 24%|███████████████████▌                                                              | 22/92 [00:13<00:42,  1.66it/s]"
     ]
    }
   ],
   "source": [
    "# from torch_geometric.nn import VGAE\n",
    "input_dim = next(iter(train_graph)).x.shape[1]\n",
    "hidden_dim = 64\n",
    "embedding_dim = 128\n",
    "epochs = 400\n",
    "\n",
    "encoder = SignatureGNN(input_dim, hidden_dim, embedding_dim)\n",
    "\n",
    "model = GAE(encoder)\n",
    "model.load_state_dict(torch.load('gae_malware_model_20250923_220752.pth'))\n",
    "try:\n",
    "    gae = train_loop(model, train_graph, val_graph, learning_rate, epochs)\n",
    "except KeyboardInterrupt:\n",
    "    print(\"Saving Model...\")\n",
    "    orch.save(model.state_dict(), \"model.pth\")\n",
    "    "
   ]
  },
  {
   "cell_type": "code",
   "execution_count": 11,
   "id": "5a6f8a0b-3366-4715-80e6-5f7a12474195",
   "metadata": {},
   "outputs": [
    {
     "ename": "NameError",
     "evalue": "name 'gae' is not defined",
     "output_type": "error",
     "traceback": [
      "\u001b[1;31m---------------------------------------------------------------------------\u001b[0m",
      "\u001b[1;31mNameError\u001b[0m                                 Traceback (most recent call last)",
      "Cell \u001b[1;32mIn[11], line 2\u001b[0m\n\u001b[0;32m      1\u001b[0m \u001b[38;5;66;03m# 2000\u001b[39;00m\n\u001b[1;32m----> 2\u001b[0m torch\u001b[38;5;241m.\u001b[39msave(\u001b[43mgae\u001b[49m\u001b[38;5;241m.\u001b[39mstate_dict(), \u001b[38;5;124m\"\u001b[39m\u001b[38;5;124mmodel.pth\u001b[39m\u001b[38;5;124m\"\u001b[39m)\n",
      "\u001b[1;31mNameError\u001b[0m: name 'gae' is not defined"
     ]
    }
   ],
   "source": [
    "# 2000\n",
    "torch.save(gae.state_dict(), \"model.pth\")"
   ]
  },
  {
   "cell_type": "code",
   "execution_count": null,
   "id": "2f27d737-dd43-4998-81d8-be3357b22908",
   "metadata": {},
   "outputs": [],
   "source": []
  },
  {
   "cell_type": "code",
   "execution_count": 2,
   "id": "86285c89-1d59-45e2-bc78-2d23de14187b",
   "metadata": {},
   "outputs": [
    {
     "ename": "NameError",
     "evalue": "name 'torch' is not defined",
     "output_type": "error",
     "traceback": [
      "\u001b[1;31m---------------------------------------------------------------------------\u001b[0m",
      "\u001b[1;31mNameError\u001b[0m                                 Traceback (most recent call last)",
      "Cell \u001b[1;32mIn[2], line 4\u001b[0m\n\u001b[0;32m      2\u001b[0m timestamp \u001b[38;5;241m=\u001b[39m datetime\u001b[38;5;241m.\u001b[39mnow()\u001b[38;5;241m.\u001b[39mstrftime(\u001b[38;5;124m\"\u001b[39m\u001b[38;5;124m%\u001b[39m\u001b[38;5;124mY\u001b[39m\u001b[38;5;124m%\u001b[39m\u001b[38;5;124mm\u001b[39m\u001b[38;5;132;01m%d\u001b[39;00m\u001b[38;5;124m_\u001b[39m\u001b[38;5;124m%\u001b[39m\u001b[38;5;124mH\u001b[39m\u001b[38;5;124m%\u001b[39m\u001b[38;5;124mM\u001b[39m\u001b[38;5;124m%\u001b[39m\u001b[38;5;124mS\u001b[39m\u001b[38;5;124m\"\u001b[39m)\n\u001b[0;32m      3\u001b[0m model_path \u001b[38;5;241m=\u001b[39m \u001b[38;5;124mf\u001b[39m\u001b[38;5;124m\"\u001b[39m\u001b[38;5;124mgae_malware_model_\u001b[39m\u001b[38;5;132;01m{\u001b[39;00mtimestamp\u001b[38;5;132;01m}\u001b[39;00m\u001b[38;5;124m.pth\u001b[39m\u001b[38;5;124m\"\u001b[39m\n\u001b[1;32m----> 4\u001b[0m \u001b[43mtorch\u001b[49m\u001b[38;5;241m.\u001b[39msave(gae\u001b[38;5;241m.\u001b[39mstate_dict(), model_path)\n\u001b[0;32m      5\u001b[0m \u001b[38;5;28mprint\u001b[39m(\u001b[38;5;124mf\u001b[39m\u001b[38;5;124m\"\u001b[39m\u001b[38;5;124mModel saved to: \u001b[39m\u001b[38;5;132;01m{\u001b[39;00mmodel_path\u001b[38;5;132;01m}\u001b[39;00m\u001b[38;5;124m\"\u001b[39m)\n",
      "\u001b[1;31mNameError\u001b[0m: name 'torch' is not defined"
     ]
    }
   ],
   "source": [
    "timestamp = datetime.now().strftime(\"%Y%m%d_%H%M%S\")\n",
    "model_path = f\"gae_malware_model_{timestamp}.pth\"\n",
    "torch.save(gae.state_dict(), model_path)\n",
    "print(f\"Model saved to: {model_path}\")"
   ]
  },
  {
   "cell_type": "code",
   "execution_count": null,
   "id": "c4f7a8da-d4e8-49b4-ba4e-7446ea3e55c0",
   "metadata": {},
   "outputs": [],
   "source": []
  }
 ],
 "metadata": {
  "kernelspec": {
   "display_name": "Python 3 (ipykernel)",
   "language": "python",
   "name": "python3"
  },
  "language_info": {
   "codemirror_mode": {
    "name": "ipython",
    "version": 3
   },
   "file_extension": ".py",
   "mimetype": "text/x-python",
   "name": "python",
   "nbconvert_exporter": "python",
   "pygments_lexer": "ipython3",
   "version": "3.9.13"
  }
 },
 "nbformat": 4,
 "nbformat_minor": 5
}
