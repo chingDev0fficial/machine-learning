{
 "cells": [
  {
   "cell_type": "code",
   "execution_count": 1,
   "id": "1c2575b4-3048-46ab-bfa0-b4210897b732",
   "metadata": {},
   "outputs": [],
   "source": [
    "import os\n",
    "import gc\n",
    "\n",
    "import torch\n",
    "import torch.nn as nn\n",
    "import torch.nn.functional as F\n",
    "from torch.utils.data import random_split\n",
    "\n",
    "from torch_geometric.nn import global_mean_pool\n",
    "from torch_geometric.loader import DataLoader\n",
    "from torch_geometric.data import Batch\n",
    "from torch_geometric.nn import GCNConv, VGAE\n",
    "\n",
    "import os\n",
    "import kagglehub\n",
    "from kagglehub import KaggleDatasetAdapter\n",
    "\n",
    "import pandas as pd\n",
    "\n",
    "from tqdm import tqdm\n",
    "from tqdm.contrib import tmap\n",
    "from tqdm.contrib.concurrent import process_map\n",
    "\n",
    "from torchvision import transforms\n",
    "\n",
    "from concurrent.futures import ProcessPoolExecutor\n",
    "\n",
    "from lib.lib import SiameseSignatureDataset\n",
    "\n",
    "from sklearn.metrics import accuracy_score, precision_score, recall_score, f1_score, roc_auc_score, confusion_matrix, ConfusionMatrixDisplay\n",
    "from sklearn.metrics import roc_curve, auc, precision_recall_fscore_support\n",
    "import matplotlib.pyplot as plt\n",
    "import numpy as np\n",
    "\n",
    "from torch.utils.tensorboard import SummaryWriter\n",
    "from datetime import datetime"
   ]
  },
  {
   "cell_type": "markdown",
   "id": "491be029-42f9-4fa5-aaca-fb4f2fa21eb8",
   "metadata": {},
   "source": [
    "# Data Preparation"
   ]
  },
  {
   "cell_type": "markdown",
   "id": "2c07ca82-0117-4817-a678-5c6e08b1d2a5",
   "metadata": {},
   "source": [
    "## prepare data from mallapraveen/signature-matching\n",
    "## and construct it using data.csv"
   ]
  },
  {
   "cell_type": "code",
   "execution_count": 2,
   "id": "11f073c6-cfc5-4011-a96e-cd7edf19e0ca",
   "metadata": {},
   "outputs": [
    {
     "name": "stdout",
     "output_type": "stream",
     "text": [
      "Loaded 85246 signature images (genuine + forged)\n"
     ]
    }
   ],
   "source": [
    "df = pd.read_csv('data.csv')\n",
    "\n",
    "def dataset_path():\n",
    "    path = kagglehub.dataset_download(\"mallapraveen/signature-matching\")\n",
    "    return os.path.join(path, 'custom\\\\full')\n",
    "\n",
    "def transform(**kwargs):\n",
    "    return transforms.Compose([\n",
    "        transforms.Grayscale(num_output_channels=kwargs['num_output_channels']),\n",
    "        transforms.Resize(kwargs['resize']),\n",
    "        transforms.ToTensor(),\n",
    "    ])\n",
    "    \n",
    "dataset = SiameseSignatureDataset(\n",
    "    root_dir=dataset_path(),\n",
    "    signer_folders=df,\n",
    "    transform=transform(num_output_channels=1, resize=(32, 32)\n",
    "))"
   ]
  },
  {
   "cell_type": "markdown",
   "id": "0488d63b-2f52-4ff7-9be6-044af6c77329",
   "metadata": {},
   "source": [
    "## split the data\n",
    "### train dataset & validation dataset"
   ]
  },
  {
   "cell_type": "code",
   "execution_count": 3,
   "id": "3e513319-7675-4c27-8ba5-cefe8ce09d6d",
   "metadata": {},
   "outputs": [
    {
     "name": "stdout",
     "output_type": "stream",
     "text": [
      "Dataset sizes - Train: 68196, Validation: 17050\n"
     ]
    }
   ],
   "source": [
    "total_size = len(dataset)\n",
    "train_size = int(0.8 * total_size)\n",
    "val_size = total_size - train_size\n",
    "train_dataset, val_dataset = random_split(\n",
    "    dataset,\n",
    "    [train_size, val_size],\n",
    "    generator=torch.Generator().manual_seed(42)\n",
    ")\n",
    "print(f\"Dataset sizes - Train: {train_size}, Validation: {val_size}\")"
   ]
  },
  {
   "cell_type": "code",
   "execution_count": 4,
   "id": "26abdce4-c402-4ed2-8cf3-2c0c645e9674",
   "metadata": {},
   "outputs": [
    {
     "data": {
      "text/plain": [
       "(Data(x=[1024, 3], edge_index=[2, 3968]),\n",
       " Data(x=[1024, 3], edge_index=[2, 3968]),\n",
       " 0)"
      ]
     },
     "execution_count": 4,
     "metadata": {},
     "output_type": "execute_result"
    }
   ],
   "source": [
    "train_dataset[0]"
   ]
  },
  {
   "cell_type": "markdown",
   "id": "4ca0393f-4ea8-4391-9015-1eac9e2eec40",
   "metadata": {},
   "source": [
    "## load the data using dataloader"
   ]
  },
  {
   "cell_type": "code",
   "execution_count": 5,
   "id": "1934d689-2e62-4ac7-9ad6-88616bed49bd",
   "metadata": {},
   "outputs": [],
   "source": [
    "train_loader = DataLoader(\n",
    "    train_dataset,\n",
    "    batch_size=32,\n",
    "    shuffle=True,\n",
    "    num_workers=4\n",
    ")\n",
    "\n",
    "val_loader = DataLoader(\n",
    "    val_dataset,\n",
    "    batch_size=256,\n",
    "    shuffle=False,\n",
    "    num_workers=4\n",
    ")"
   ]
  },
  {
   "cell_type": "code",
   "execution_count": 6,
   "id": "cb8633a8-34ee-4248-b371-56299650d3a2",
   "metadata": {},
   "outputs": [
    {
     "data": {
      "text/plain": [
       "[DataBatch(x=[32768, 3], edge_index=[2, 126976], batch=[32768], ptr=[33]),\n",
       " DataBatch(x=[32768, 3], edge_index=[2, 126976], batch=[32768], ptr=[33]),\n",
       " tensor([1, 1, 1, 1, 0, 1, 0, 0, 0, 0, 0, 0, 0, 1, 0, 0, 0, 1, 1, 0, 1, 0, 1, 0,\n",
       "         0, 0, 0, 1, 1, 1, 1, 1])]"
      ]
     },
     "execution_count": 6,
     "metadata": {},
     "output_type": "execute_result"
    }
   ],
   "source": [
    "next(iter(train_loader))"
   ]
  },
  {
   "cell_type": "markdown",
   "id": "25f0cea4-8e89-43f3-94cd-c689f6769295",
   "metadata": {},
   "source": [
    "# Model Preparation"
   ]
  },
  {
   "cell_type": "code",
   "execution_count": 7,
   "id": "cb4c7de3-b340-4d6f-869d-41f83f4d2411",
   "metadata": {},
   "outputs": [],
   "source": [
    "class GNNEncoder(torch.nn.Module):\n",
    "    def __init__(self, in_channels, hidden_channels, latent_dim):\n",
    "        super(GNNEncoder, self).__init__()\n",
    "        self.conv1 = GCNConv(in_channels, hidden_channels)\n",
    "        self.conv_mu = GCNConv(hidden_channels, latent_dim)\n",
    "        self.conv_logvar = GCNConv(hidden_channels, latent_dim)\n",
    "\n",
    "    def forward(self, x, edge_index):\n",
    "        # Step 1: Aggregate node features from neighbors\n",
    "        x = F.relu(self.conv1(x, edge_index))\n",
    "\n",
    "        # Step 2: Output mean and log variance\n",
    "        mu = self.conv_mu(x, edge_index)\n",
    "        logvar = self.conv_logvar(x, edge_index)\n",
    "\n",
    "        return mu, logvar"
   ]
  },
  {
   "cell_type": "code",
   "execution_count": 8,
   "id": "684ce35a-fbc1-4ae6-b6a2-e286cacb5e3c",
   "metadata": {},
   "outputs": [],
   "source": [
    "class SiameseNetwork(nn.Module):\n",
    "    def __init__(self, fe_model, latent_dim):\n",
    "        super(SiameseNetwork, self).__init__()\n",
    "        self.encoder = fe_model\n",
    "        self.embedding_dim = latent_dim\n",
    "        \n",
    "        self.projector = nn.Sequential(\n",
    "            nn.Linear(self.embedding_dim, 128),\n",
    "            nn.ReLU(inplace=True),\n",
    "            nn.Dropout(p=0.5),\n",
    "\n",
    "            nn.Linear(128, 64),\n",
    "            nn.ReLU(inplace=True),\n",
    "            nn.Dropout(p=0.5),\n",
    "\n",
    "            nn.Linear(64, 2)\n",
    "        )\n",
    "\n",
    "    def forward_once(self, x, edge_index, batch):\n",
    "        mu, _ = self.encoder(x, edge_index)\n",
    "        graph_emb = global_mean_pool(mu, batch) \n",
    "        # x = torch.flatten(x, 1)\n",
    "        # return x\n",
    "        return graph_emb\n",
    "\n",
    "    def forward(self, x1, x2,\n",
    "               edge_index1, edge_index2,\n",
    "               batch):\n",
    "        emb1 = self.forward_once(x1, edge_index1, batch)\n",
    "        emb2 = self.forward_once(x2, edge_index2, batch)\n",
    "        \n",
    "        emb1 = F.normalize(emb1, p=2, dim=1)\n",
    "        emb2 = F.normalize(emb2, p=2, dim=1)\n",
    "\n",
    "        # Combine embeddings (abs difference works well for verification)\n",
    "        combined = torch.abs(emb1 - emb2)\n",
    "\n",
    "        # Predict same/forged\n",
    "        out = self.projector(combined)\n",
    "        return out"
   ]
  },
  {
   "cell_type": "markdown",
   "id": "da78ed92-5596-4992-85d5-28c8731a5626",
   "metadata": {},
   "source": [
    "# Hyperparameters"
   ]
  },
  {
   "cell_type": "code",
   "execution_count": 9,
   "id": "c916c85c-e942-42af-95fb-09a24f7f3827",
   "metadata": {},
   "outputs": [
    {
     "data": {
      "text/plain": [
       "device(type='cuda', index=0)"
      ]
     },
     "execution_count": 9,
     "metadata": {},
     "output_type": "execute_result"
    }
   ],
   "source": [
    "w_d = 1e-5\n",
    "epochs = 500\n",
    "learning_rate = 1e-3\n",
    "device = torch.device('cuda:0' if torch.cuda.is_available() else 'cpu')\n",
    "device"
   ]
  },
  {
   "cell_type": "markdown",
   "id": "24540b2e-ac04-4280-b8fe-85536b712618",
   "metadata": {},
   "source": [
    "# Training Preparation"
   ]
  },
  {
   "cell_type": "code",
   "execution_count": 10,
   "id": "9379a45f-7931-452c-974e-6ea79202ecf1",
   "metadata": {},
   "outputs": [],
   "source": [
    "img1, _, _ = next(iter(train_loader))\n",
    "\n",
    "input_dim = img1.x.shape[1]\n",
    "hidden_dim = 64\n",
    "latent_dim = 128"
   ]
  },
  {
   "cell_type": "code",
   "execution_count": 11,
   "id": "91b65f9c-3db2-45b1-b801-d6ea5a648909",
   "metadata": {},
   "outputs": [
    {
     "data": {
      "text/plain": [
       "VGAE(\n",
       "  (encoder): GNNEncoder(\n",
       "    (conv1): GCNConv(3, 64)\n",
       "    (conv_mu): GCNConv(64, 128)\n",
       "    (conv_logvar): GCNConv(64, 128)\n",
       "  )\n",
       "  (decoder): InnerProductDecoder()\n",
       ")"
      ]
     },
     "execution_count": 11,
     "metadata": {},
     "output_type": "execute_result"
    }
   ],
   "source": [
    "# Load your trained GNN-VAE\n",
    "checkpoint = torch.load('VGAE_Model.pt', map_location=device)\n",
    "vgae = VGAE(GNNEncoder(in_channels=input_dim, hidden_channels=hidden_dim, latent_dim=latent_dim)).to(device)\n",
    "vgae.load_state_dict(checkpoint)\n",
    "vgae.eval()"
   ]
  },
  {
   "cell_type": "code",
   "execution_count": 12,
   "id": "432ec032-34a8-482c-9152-b07f5a76b674",
   "metadata": {},
   "outputs": [],
   "source": [
    "model = SiameseNetwork(vgae, latent_dim=128).to(device)\n",
    "criterion = nn.CrossEntropyLoss()\n",
    "optimizer = torch.optim.Adam(model.parameters(), lr=1e-4)"
   ]
  },
  {
   "cell_type": "markdown",
   "id": "c40c3824-280f-4f7e-ab0c-a4123e2ab628",
   "metadata": {},
   "source": [
    "## train steps"
   ]
  },
  {
   "cell_type": "code",
   "execution_count": 13,
   "id": "396f1dfa-adad-4bc1-965f-84410cdbb9e8",
   "metadata": {},
   "outputs": [],
   "source": [
    "def train_step(model, dataloader, criterion, optimizer, device):\n",
    "    model.train()\n",
    "    total_loss, correct, total = 0.0, 0, 0\n",
    "\n",
    "    for x1, x2, label in tqdm(dataloader, desc=\"Training\", leave=False):\n",
    "        x1, x2, label = x1.to(device), x2.to(device), label.to(device)\n",
    "\n",
    "        # Forward\n",
    "        output = model(x1.x.to(device),\n",
    "                    x2.x.to(device),\n",
    "                    x1.edge_index.to(device),\n",
    "                    x2.edge_index.to(device),\n",
    "                    x1.batch)  # logits shape: [batch, 2]\n",
    "        \n",
    "        loss = criterion(output, label)\n",
    "\n",
    "        # Backprop\n",
    "        optimizer.zero_grad()\n",
    "        loss.backward()\n",
    "        optimizer.step()\n",
    "\n",
    "        # Metrics\n",
    "        total_loss += loss.item() * x1.size(0)\n",
    "        preds = torch.argmax(output, dim=1)\n",
    "        correct += (preds == label).sum().item()\n",
    "        total += label.size(0)\n",
    "\n",
    "    avg_loss = total_loss / total\n",
    "    accuracy = correct / total\n",
    "    return avg_loss, accuracy"
   ]
  },
  {
   "cell_type": "markdown",
   "id": "326e83ec-e15d-4c11-89bb-aa5897996fab",
   "metadata": {},
   "source": [
    "## validation steps"
   ]
  },
  {
   "cell_type": "code",
   "execution_count": 14,
   "id": "614a467f-5e31-4dc5-850d-caea7b9218c3",
   "metadata": {},
   "outputs": [],
   "source": [
    "def val_step(model, dataloader, criterion, device):\n",
    "    model.eval()\n",
    "    total_loss, correct, total = 0.0, 0, 0\n",
    "    all_labels = []\n",
    "    all_preds = []\n",
    "    all_probs = []\n",
    "\n",
    "    with torch.no_grad():\n",
    "        for x1, x2, label in tqdm(dataloader, desc=\"Validating\", leave=False):\n",
    "            x1, x2, label = x1.to(device), x2.to(device), label.to(device)\n",
    "            output = model(x1.x.to(device),\n",
    "                    x2.x.to(device),\n",
    "                    x1.edge_index.to(device),\n",
    "                    x2.edge_index.to(device),\n",
    "                    x1.batch)\n",
    "\n",
    "            loss = criterion(output, label)\n",
    "            total_loss += loss.item() * x1.size(0)\n",
    "\n",
    "            probs = torch.softmax(output, dim=1)[:, 1]  # Probability of class 1 (\"genuine\")\n",
    "            preds = torch.argmax(output, dim=1)\n",
    "\n",
    "            all_labels.extend(label.cpu().numpy())\n",
    "            all_preds.extend(preds.cpu().numpy())\n",
    "            all_probs.extend(probs.cpu().numpy())\n",
    "\n",
    "            correct += (preds == label).sum().item()\n",
    "            total += label.size(0)\n",
    "\n",
    "    avg_loss = total_loss / total\n",
    "    accuracy = correct / total\n",
    "    return avg_loss, accuracy, np.array(all_labels), np.array(all_preds), np.array(all_probs)\n"
   ]
  },
  {
   "cell_type": "markdown",
   "id": "14ad49e3-508d-43ff-8ed4-3018c7ab032c",
   "metadata": {},
   "source": [
    "# Training Phase"
   ]
  },
  {
   "cell_type": "code",
   "execution_count": 15,
   "id": "c007e001-891d-4262-8fc2-bfad52e0dfc9",
   "metadata": {},
   "outputs": [
    {
     "name": "stderr",
     "output_type": "stream",
     "text": [
      "                                                                                                                       "
     ]
    },
    {
     "name": "stdout",
     "output_type": "stream",
     "text": [
      "Epoch [1/500] Train Loss: 301.4406 | Train Acc: 0.8928 | Val Loss: 220.8168 | Val Acc: 0.9077 | AUC: 0.9742 | F1: 0.9134\n"
     ]
    },
    {
     "name": "stderr",
     "output_type": "stream",
     "text": [
      "                                                                                                                       "
     ]
    },
    {
     "name": "stdout",
     "output_type": "stream",
     "text": [
      "Epoch [2/500] Train Loss: 223.4867 | Train Acc: 0.9115 | Val Loss: 212.6677 | Val Acc: 0.9126 | AUC: 0.9727 | F1: 0.9163\n"
     ]
    },
    {
     "name": "stderr",
     "output_type": "stream",
     "text": [
      "                                                                                                                       "
     ]
    },
    {
     "name": "stdout",
     "output_type": "stream",
     "text": [
      "Epoch [3/500] Train Loss: 210.4747 | Train Acc: 0.9139 | Val Loss: 196.8415 | Val Acc: 0.9144 | AUC: 0.9773 | F1: 0.9156\n"
     ]
    },
    {
     "name": "stderr",
     "output_type": "stream",
     "text": [
      "                                                                                                                       "
     ]
    },
    {
     "name": "stdout",
     "output_type": "stream",
     "text": [
      "Epoch [4/500] Train Loss: 202.0356 | Train Acc: 0.9150 | Val Loss: 188.2956 | Val Acc: 0.9149 | AUC: 0.9804 | F1: 0.9136\n"
     ]
    },
    {
     "name": "stderr",
     "output_type": "stream",
     "text": [
      "                                                                                                                       "
     ]
    },
    {
     "name": "stdout",
     "output_type": "stream",
     "text": [
      "Epoch [5/500] Train Loss: 194.9983 | Train Acc: 0.9165 | Val Loss: 188.9649 | Val Acc: 0.9176 | AUC: 0.9789 | F1: 0.9202\n"
     ]
    },
    {
     "name": "stderr",
     "output_type": "stream",
     "text": [
      "                                                                                                                       "
     ]
    },
    {
     "name": "stdout",
     "output_type": "stream",
     "text": [
      "Epoch [6/500] Train Loss: 189.4943 | Train Acc: 0.9170 | Val Loss: 184.9032 | Val Acc: 0.9188 | AUC: 0.9791 | F1: 0.9207\n"
     ]
    },
    {
     "name": "stderr",
     "output_type": "stream",
     "text": [
      "                                                                                                                       "
     ]
    },
    {
     "name": "stdout",
     "output_type": "stream",
     "text": [
      "Epoch [7/500] Train Loss: 187.4927 | Train Acc: 0.9185 | Val Loss: 177.3454 | Val Acc: 0.9198 | AUC: 0.9809 | F1: 0.9209\n"
     ]
    },
    {
     "name": "stderr",
     "output_type": "stream",
     "text": [
      "                                                                                                                       "
     ]
    },
    {
     "name": "stdout",
     "output_type": "stream",
     "text": [
      "Epoch [8/500] Train Loss: 186.0496 | Train Acc: 0.9177 | Val Loss: 184.3102 | Val Acc: 0.9158 | AUC: 0.9800 | F1: 0.9156\n"
     ]
    },
    {
     "name": "stderr",
     "output_type": "stream",
     "text": [
      "                                                                                                                       "
     ]
    },
    {
     "name": "stdout",
     "output_type": "stream",
     "text": [
      "Epoch [9/500] Train Loss: 184.1166 | Train Acc: 0.9195 | Val Loss: 175.2598 | Val Acc: 0.9197 | AUC: 0.9812 | F1: 0.9216\n"
     ]
    },
    {
     "name": "stderr",
     "output_type": "stream",
     "text": [
      "                                                                                                                       "
     ]
    },
    {
     "name": "stdout",
     "output_type": "stream",
     "text": [
      "Epoch [10/500] Train Loss: 183.2676 | Train Acc: 0.9191 | Val Loss: 185.5959 | Val Acc: 0.9158 | AUC: 0.9815 | F1: 0.9144\n"
     ]
    },
    {
     "name": "stderr",
     "output_type": "stream",
     "text": [
      "                                                                                                                       "
     ]
    },
    {
     "name": "stdout",
     "output_type": "stream",
     "text": [
      "Epoch [11/500] Train Loss: 180.8584 | Train Acc: 0.9200 | Val Loss: 172.3890 | Val Acc: 0.9221 | AUC: 0.9817 | F1: 0.9241\n"
     ]
    },
    {
     "name": "stderr",
     "output_type": "stream",
     "text": [
      "                                                                                                                       "
     ]
    },
    {
     "name": "stdout",
     "output_type": "stream",
     "text": [
      "Epoch [12/500] Train Loss: 180.0738 | Train Acc: 0.9192 | Val Loss: 180.3692 | Val Acc: 0.9191 | AUC: 0.9811 | F1: 0.9187\n"
     ]
    },
    {
     "name": "stderr",
     "output_type": "stream",
     "text": [
      "                                                                                                                       "
     ]
    },
    {
     "name": "stdout",
     "output_type": "stream",
     "text": [
      "Epoch [13/500] Train Loss: 175.7017 | Train Acc: 0.9218 | Val Loss: 175.8476 | Val Acc: 0.9200 | AUC: 0.9809 | F1: 0.9211\n"
     ]
    },
    {
     "name": "stderr",
     "output_type": "stream",
     "text": [
      "                                                                                                                       "
     ]
    },
    {
     "name": "stdout",
     "output_type": "stream",
     "text": [
      "Epoch [14/500] Train Loss: 177.2178 | Train Acc: 0.9204 | Val Loss: 167.0111 | Val Acc: 0.9248 | AUC: 0.9827 | F1: 0.9260\n"
     ]
    },
    {
     "name": "stderr",
     "output_type": "stream",
     "text": [
      "                                                                                                                       "
     ]
    },
    {
     "name": "stdout",
     "output_type": "stream",
     "text": [
      "Epoch [15/500] Train Loss: 175.9619 | Train Acc: 0.9214 | Val Loss: 179.0301 | Val Acc: 0.9216 | AUC: 0.9807 | F1: 0.9249\n"
     ]
    },
    {
     "name": "stderr",
     "output_type": "stream",
     "text": [
      "                                                                                                                       "
     ]
    },
    {
     "name": "stdout",
     "output_type": "stream",
     "text": [
      "Epoch [16/500] Train Loss: 174.3707 | Train Acc: 0.9227 | Val Loss: 165.2912 | Val Acc: 0.9235 | AUC: 0.9837 | F1: 0.9233\n"
     ]
    },
    {
     "name": "stderr",
     "output_type": "stream",
     "text": [
      "                                                                                                                       "
     ]
    },
    {
     "name": "stdout",
     "output_type": "stream",
     "text": [
      "Epoch [17/500] Train Loss: 171.4984 | Train Acc: 0.9232 | Val Loss: 168.0704 | Val Acc: 0.9229 | AUC: 0.9823 | F1: 0.9251\n"
     ]
    },
    {
     "name": "stderr",
     "output_type": "stream",
     "text": [
      "                                                                                                                       "
     ]
    },
    {
     "name": "stdout",
     "output_type": "stream",
     "text": [
      "Epoch [18/500] Train Loss: 170.1084 | Train Acc: 0.9243 | Val Loss: 176.2372 | Val Acc: 0.9222 | AUC: 0.9815 | F1: 0.9247\n"
     ]
    },
    {
     "name": "stderr",
     "output_type": "stream",
     "text": [
      "                                                                                                                       "
     ]
    },
    {
     "name": "stdout",
     "output_type": "stream",
     "text": [
      "Epoch [19/500] Train Loss: 170.5405 | Train Acc: 0.9245 | Val Loss: 166.3556 | Val Acc: 0.9260 | AUC: 0.9831 | F1: 0.9284\n"
     ]
    },
    {
     "name": "stderr",
     "output_type": "stream",
     "text": [
      "                                                                                                                       "
     ]
    },
    {
     "name": "stdout",
     "output_type": "stream",
     "text": [
      "Epoch [20/500] Train Loss: 168.7136 | Train Acc: 0.9249 | Val Loss: 167.3539 | Val Acc: 0.9257 | AUC: 0.9828 | F1: 0.9269\n"
     ]
    },
    {
     "name": "stderr",
     "output_type": "stream",
     "text": [
      "                                                                                                                       "
     ]
    },
    {
     "name": "stdout",
     "output_type": "stream",
     "text": [
      "Epoch [21/500] Train Loss: 166.9672 | Train Acc: 0.9259 | Val Loss: 178.5619 | Val Acc: 0.9181 | AUC: 0.9825 | F1: 0.9165\n"
     ]
    },
    {
     "name": "stderr",
     "output_type": "stream",
     "text": [
      "                                                                                                                       "
     ]
    },
    {
     "name": "stdout",
     "output_type": "stream",
     "text": [
      "Epoch [22/500] Train Loss: 165.5437 | Train Acc: 0.9266 | Val Loss: 161.9374 | Val Acc: 0.9272 | AUC: 0.9838 | F1: 0.9290\n"
     ]
    },
    {
     "name": "stderr",
     "output_type": "stream",
     "text": [
      "                                                                                                                       "
     ]
    },
    {
     "name": "stdout",
     "output_type": "stream",
     "text": [
      "Epoch [23/500] Train Loss: 163.9367 | Train Acc: 0.9275 | Val Loss: 159.8350 | Val Acc: 0.9273 | AUC: 0.9842 | F1: 0.9288\n"
     ]
    },
    {
     "name": "stderr",
     "output_type": "stream",
     "text": [
      "                                                                                                                       "
     ]
    },
    {
     "name": "stdout",
     "output_type": "stream",
     "text": [
      "Epoch [24/500] Train Loss: 163.4522 | Train Acc: 0.9277 | Val Loss: 158.2270 | Val Acc: 0.9278 | AUC: 0.9844 | F1: 0.9290\n"
     ]
    },
    {
     "name": "stderr",
     "output_type": "stream",
     "text": [
      "                                                                                                                       "
     ]
    },
    {
     "name": "stdout",
     "output_type": "stream",
     "text": [
      "Epoch [25/500] Train Loss: 162.5722 | Train Acc: 0.9274 | Val Loss: 156.8270 | Val Acc: 0.9284 | AUC: 0.9848 | F1: 0.9290\n"
     ]
    },
    {
     "name": "stderr",
     "output_type": "stream",
     "text": [
      "                                                                                                                       "
     ]
    },
    {
     "name": "stdout",
     "output_type": "stream",
     "text": [
      "Epoch [26/500] Train Loss: 161.4268 | Train Acc: 0.9285 | Val Loss: 161.6155 | Val Acc: 0.9264 | AUC: 0.9840 | F1: 0.9264\n"
     ]
    },
    {
     "name": "stderr",
     "output_type": "stream",
     "text": [
      "                                                                                                                       "
     ]
    },
    {
     "name": "stdout",
     "output_type": "stream",
     "text": [
      "Epoch [27/500] Train Loss: 162.3441 | Train Acc: 0.9288 | Val Loss: 167.1592 | Val Acc: 0.9272 | AUC: 0.9833 | F1: 0.9299\n"
     ]
    },
    {
     "name": "stderr",
     "output_type": "stream",
     "text": [
      "                                                                                                                       "
     ]
    },
    {
     "name": "stdout",
     "output_type": "stream",
     "text": [
      "Epoch [28/500] Train Loss: 159.6416 | Train Acc: 0.9290 | Val Loss: 154.8533 | Val Acc: 0.9294 | AUC: 0.9850 | F1: 0.9309\n"
     ]
    },
    {
     "name": "stderr",
     "output_type": "stream",
     "text": [
      "                                                                                                                       "
     ]
    },
    {
     "name": "stdout",
     "output_type": "stream",
     "text": [
      "Epoch [29/500] Train Loss: 158.9008 | Train Acc: 0.9297 | Val Loss: 155.6507 | Val Acc: 0.9269 | AUC: 0.9854 | F1: 0.9267\n"
     ]
    },
    {
     "name": "stderr",
     "output_type": "stream",
     "text": [
      "                                                                                                                       "
     ]
    },
    {
     "name": "stdout",
     "output_type": "stream",
     "text": [
      "Epoch [30/500] Train Loss: 157.7988 | Train Acc: 0.9297 | Val Loss: 155.4615 | Val Acc: 0.9310 | AUC: 0.9851 | F1: 0.9330\n"
     ]
    },
    {
     "name": "stderr",
     "output_type": "stream",
     "text": [
      "                                                                                                                       "
     ]
    },
    {
     "name": "stdout",
     "output_type": "stream",
     "text": [
      "Epoch [31/500] Train Loss: 158.2186 | Train Acc: 0.9294 | Val Loss: 174.8014 | Val Acc: 0.9215 | AUC: 0.9818 | F1: 0.9212\n"
     ]
    },
    {
     "name": "stderr",
     "output_type": "stream",
     "text": [
      "                                                                                                                       "
     ]
    },
    {
     "name": "stdout",
     "output_type": "stream",
     "text": [
      "Epoch [32/500] Train Loss: 156.2951 | Train Acc: 0.9309 | Val Loss: 153.1046 | Val Acc: 0.9317 | AUC: 0.9856 | F1: 0.9322\n"
     ]
    },
    {
     "name": "stderr",
     "output_type": "stream",
     "text": [
      "                                                                                                                       "
     ]
    },
    {
     "name": "stdout",
     "output_type": "stream",
     "text": [
      "Epoch [33/500] Train Loss: 156.6305 | Train Acc: 0.9309 | Val Loss: 163.3781 | Val Acc: 0.9277 | AUC: 0.9840 | F1: 0.9282\n"
     ]
    },
    {
     "name": "stderr",
     "output_type": "stream",
     "text": [
      "                                                                                                                       "
     ]
    },
    {
     "name": "stdout",
     "output_type": "stream",
     "text": [
      "Epoch [34/500] Train Loss: 154.2408 | Train Acc: 0.9319 | Val Loss: 149.2054 | Val Acc: 0.9321 | AUC: 0.9861 | F1: 0.9334\n"
     ]
    },
    {
     "name": "stderr",
     "output_type": "stream",
     "text": [
      "                                                                                                                       "
     ]
    },
    {
     "name": "stdout",
     "output_type": "stream",
     "text": [
      "Epoch [35/500] Train Loss: 153.4824 | Train Acc: 0.9331 | Val Loss: 150.8654 | Val Acc: 0.9311 | AUC: 0.9858 | F1: 0.9330\n"
     ]
    },
    {
     "name": "stderr",
     "output_type": "stream",
     "text": [
      "                                                                                                                       "
     ]
    },
    {
     "name": "stdout",
     "output_type": "stream",
     "text": [
      "Epoch [36/500] Train Loss: 154.2633 | Train Acc: 0.9325 | Val Loss: 152.8141 | Val Acc: 0.9304 | AUC: 0.9855 | F1: 0.9321\n"
     ]
    },
    {
     "name": "stderr",
     "output_type": "stream",
     "text": [
      "                                                                                                                       "
     ]
    },
    {
     "name": "stdout",
     "output_type": "stream",
     "text": [
      "Epoch [37/500] Train Loss: 152.7556 | Train Acc: 0.9329 | Val Loss: 154.5299 | Val Acc: 0.9302 | AUC: 0.9859 | F1: 0.9329\n"
     ]
    },
    {
     "name": "stderr",
     "output_type": "stream",
     "text": [
      "                                                                                                                       "
     ]
    },
    {
     "name": "stdout",
     "output_type": "stream",
     "text": [
      "Epoch [38/500] Train Loss: 152.3369 | Train Acc: 0.9331 | Val Loss: 149.2800 | Val Acc: 0.9321 | AUC: 0.9860 | F1: 0.9333\n"
     ]
    },
    {
     "name": "stderr",
     "output_type": "stream",
     "text": [
      "                                                                                                                       "
     ]
    },
    {
     "name": "stdout",
     "output_type": "stream",
     "text": [
      "Epoch [39/500] Train Loss: 152.8332 | Train Acc: 0.9332 | Val Loss: 151.1595 | Val Acc: 0.9297 | AUC: 0.9861 | F1: 0.9321\n"
     ]
    },
    {
     "name": "stderr",
     "output_type": "stream",
     "text": [
      "                                                                                                                       "
     ]
    },
    {
     "name": "stdout",
     "output_type": "stream",
     "text": [
      "Epoch [40/500] Train Loss: 150.1104 | Train Acc: 0.9340 | Val Loss: 148.5095 | Val Acc: 0.9338 | AUC: 0.9863 | F1: 0.9351\n"
     ]
    },
    {
     "name": "stderr",
     "output_type": "stream",
     "text": [
      "                                                                                                                       "
     ]
    },
    {
     "name": "stdout",
     "output_type": "stream",
     "text": [
      "Epoch [41/500] Train Loss: 151.6493 | Train Acc: 0.9336 | Val Loss: 157.0047 | Val Acc: 0.9311 | AUC: 0.9852 | F1: 0.9315\n"
     ]
    },
    {
     "name": "stderr",
     "output_type": "stream",
     "text": [
      "                                                                                                                       "
     ]
    },
    {
     "name": "stdout",
     "output_type": "stream",
     "text": [
      "Epoch [42/500] Train Loss: 149.7616 | Train Acc: 0.9345 | Val Loss: 146.2045 | Val Acc: 0.9337 | AUC: 0.9868 | F1: 0.9356\n"
     ]
    },
    {
     "name": "stderr",
     "output_type": "stream",
     "text": [
      "                                                                                                                       "
     ]
    },
    {
     "name": "stdout",
     "output_type": "stream",
     "text": [
      "Epoch [43/500] Train Loss: 149.2597 | Train Acc: 0.9341 | Val Loss: 144.8766 | Val Acc: 0.9340 | AUC: 0.9869 | F1: 0.9350\n"
     ]
    },
    {
     "name": "stderr",
     "output_type": "stream",
     "text": [
      "                                                                                                                       "
     ]
    },
    {
     "name": "stdout",
     "output_type": "stream",
     "text": [
      "Epoch [44/500] Train Loss: 148.5214 | Train Acc: 0.9357 | Val Loss: 155.8601 | Val Acc: 0.9272 | AUC: 0.9861 | F1: 0.9266\n"
     ]
    },
    {
     "name": "stderr",
     "output_type": "stream",
     "text": [
      "                                                                                                                       "
     ]
    },
    {
     "name": "stdout",
     "output_type": "stream",
     "text": [
      "Epoch [45/500] Train Loss: 147.7592 | Train Acc: 0.9350 | Val Loss: 144.3949 | Val Acc: 0.9348 | AUC: 0.9871 | F1: 0.9355\n"
     ]
    },
    {
     "name": "stderr",
     "output_type": "stream",
     "text": [
      "                                                                                                                       "
     ]
    },
    {
     "name": "stdout",
     "output_type": "stream",
     "text": [
      "Epoch [46/500] Train Loss: 147.2876 | Train Acc: 0.9358 | Val Loss: 146.2856 | Val Acc: 0.9347 | AUC: 0.9870 | F1: 0.9367\n"
     ]
    },
    {
     "name": "stderr",
     "output_type": "stream",
     "text": [
      "                                                                                                                       "
     ]
    },
    {
     "name": "stdout",
     "output_type": "stream",
     "text": [
      "Epoch [47/500] Train Loss: 147.2439 | Train Acc: 0.9351 | Val Loss: 151.4756 | Val Acc: 0.9322 | AUC: 0.9861 | F1: 0.9346\n"
     ]
    },
    {
     "name": "stderr",
     "output_type": "stream",
     "text": [
      "                                                                                                                       "
     ]
    },
    {
     "name": "stdout",
     "output_type": "stream",
     "text": [
      "Epoch [48/500] Train Loss: 146.5703 | Train Acc: 0.9370 | Val Loss: 158.4842 | Val Acc: 0.9290 | AUC: 0.9862 | F1: 0.9327\n"
     ]
    },
    {
     "name": "stderr",
     "output_type": "stream",
     "text": [
      "                                                                                                                       "
     ]
    },
    {
     "name": "stdout",
     "output_type": "stream",
     "text": [
      "Epoch [49/500] Train Loss: 145.4389 | Train Acc: 0.9366 | Val Loss: 151.1835 | Val Acc: 0.9313 | AUC: 0.9865 | F1: 0.9310\n"
     ]
    },
    {
     "name": "stderr",
     "output_type": "stream",
     "text": [
      "                                                                                                                       "
     ]
    },
    {
     "name": "stdout",
     "output_type": "stream",
     "text": [
      "Epoch [50/500] Train Loss: 144.4213 | Train Acc: 0.9366 | Val Loss: 141.0261 | Val Acc: 0.9369 | AUC: 0.9877 | F1: 0.9383\n"
     ]
    },
    {
     "name": "stderr",
     "output_type": "stream",
     "text": [
      "                                                                                                                       "
     ]
    },
    {
     "name": "stdout",
     "output_type": "stream",
     "text": [
      "Epoch [51/500] Train Loss: 144.7840 | Train Acc: 0.9368 | Val Loss: 151.0825 | Val Acc: 0.9307 | AUC: 0.9862 | F1: 0.9311\n"
     ]
    },
    {
     "name": "stderr",
     "output_type": "stream",
     "text": [
      "                                                                                                                       "
     ]
    },
    {
     "name": "stdout",
     "output_type": "stream",
     "text": [
      "Epoch [52/500] Train Loss: 143.8017 | Train Acc: 0.9375 | Val Loss: 144.9472 | Val Acc: 0.9357 | AUC: 0.9871 | F1: 0.9371\n"
     ]
    },
    {
     "name": "stderr",
     "output_type": "stream",
     "text": [
      "                                                                                                                       "
     ]
    },
    {
     "name": "stdout",
     "output_type": "stream",
     "text": [
      "Epoch [53/500] Train Loss: 143.7806 | Train Acc: 0.9377 | Val Loss: 143.1376 | Val Acc: 0.9347 | AUC: 0.9873 | F1: 0.9363\n"
     ]
    },
    {
     "name": "stderr",
     "output_type": "stream",
     "text": [
      "                                                                                                                       "
     ]
    },
    {
     "name": "stdout",
     "output_type": "stream",
     "text": [
      "Epoch [54/500] Train Loss: 142.3934 | Train Acc: 0.9384 | Val Loss: 149.4592 | Val Acc: 0.9317 | AUC: 0.9867 | F1: 0.9318\n"
     ]
    },
    {
     "name": "stderr",
     "output_type": "stream",
     "text": [
      "                                                                                                                       "
     ]
    },
    {
     "name": "stdout",
     "output_type": "stream",
     "text": [
      "Epoch [55/500] Train Loss: 141.9689 | Train Acc: 0.9386 | Val Loss: 138.4644 | Val Acc: 0.9366 | AUC: 0.9883 | F1: 0.9371\n"
     ]
    },
    {
     "name": "stderr",
     "output_type": "stream",
     "text": [
      "                                                                                                                       "
     ]
    },
    {
     "name": "stdout",
     "output_type": "stream",
     "text": [
      "Epoch [56/500] Train Loss: 142.2089 | Train Acc: 0.9383 | Val Loss: 139.0436 | Val Acc: 0.9377 | AUC: 0.9881 | F1: 0.9393\n"
     ]
    },
    {
     "name": "stderr",
     "output_type": "stream",
     "text": [
      "                                                                                                                       "
     ]
    },
    {
     "name": "stdout",
     "output_type": "stream",
     "text": [
      "Epoch [57/500] Train Loss: 139.4660 | Train Acc: 0.9389 | Val Loss: 136.0462 | Val Acc: 0.9387 | AUC: 0.9886 | F1: 0.9400\n"
     ]
    },
    {
     "name": "stderr",
     "output_type": "stream",
     "text": [
      "                                                                                                                       "
     ]
    },
    {
     "name": "stdout",
     "output_type": "stream",
     "text": [
      "Epoch [58/500] Train Loss: 140.3158 | Train Acc: 0.9394 | Val Loss: 137.0823 | Val Acc: 0.9392 | AUC: 0.9884 | F1: 0.9407\n"
     ]
    },
    {
     "name": "stderr",
     "output_type": "stream",
     "text": [
      "                                                                                                                       "
     ]
    },
    {
     "name": "stdout",
     "output_type": "stream",
     "text": [
      "Epoch [59/500] Train Loss: 141.1528 | Train Acc: 0.9392 | Val Loss: 139.0636 | Val Acc: 0.9378 | AUC: 0.9880 | F1: 0.9387\n"
     ]
    },
    {
     "name": "stderr",
     "output_type": "stream",
     "text": [
      "                                                                                                                       "
     ]
    },
    {
     "name": "stdout",
     "output_type": "stream",
     "text": [
      "Epoch [60/500] Train Loss: 140.4429 | Train Acc: 0.9393 | Val Loss: 136.8100 | Val Acc: 0.9381 | AUC: 0.9887 | F1: 0.9384\n"
     ]
    },
    {
     "name": "stderr",
     "output_type": "stream",
     "text": [
      "                                                                                                                       "
     ]
    },
    {
     "name": "stdout",
     "output_type": "stream",
     "text": [
      "Epoch [61/500] Train Loss: 139.5352 | Train Acc: 0.9394 | Val Loss: 140.5495 | Val Acc: 0.9380 | AUC: 0.9879 | F1: 0.9390\n"
     ]
    },
    {
     "name": "stderr",
     "output_type": "stream",
     "text": [
      "                                                                                                                       "
     ]
    },
    {
     "name": "stdout",
     "output_type": "stream",
     "text": [
      "Epoch [62/500] Train Loss: 138.2104 | Train Acc: 0.9403 | Val Loss: 138.5075 | Val Acc: 0.9378 | AUC: 0.9883 | F1: 0.9385\n"
     ]
    },
    {
     "name": "stderr",
     "output_type": "stream",
     "text": [
      "                                                                                                                       "
     ]
    },
    {
     "name": "stdout",
     "output_type": "stream",
     "text": [
      "Epoch [63/500] Train Loss: 137.0079 | Train Acc: 0.9409 | Val Loss: 134.5025 | Val Acc: 0.9402 | AUC: 0.9888 | F1: 0.9412\n"
     ]
    },
    {
     "name": "stderr",
     "output_type": "stream",
     "text": [
      "                                                                                                                       "
     ]
    },
    {
     "name": "stdout",
     "output_type": "stream",
     "text": [
      "Epoch [64/500] Train Loss: 137.8642 | Train Acc: 0.9406 | Val Loss: 134.9077 | Val Acc: 0.9412 | AUC: 0.9890 | F1: 0.9430\n"
     ]
    },
    {
     "name": "stderr",
     "output_type": "stream",
     "text": [
      "                                                                                                                       "
     ]
    },
    {
     "name": "stdout",
     "output_type": "stream",
     "text": [
      "Epoch [65/500] Train Loss: 136.0820 | Train Acc: 0.9415 | Val Loss: 136.4590 | Val Acc: 0.9391 | AUC: 0.9888 | F1: 0.9411\n"
     ]
    },
    {
     "name": "stderr",
     "output_type": "stream",
     "text": [
      "                                                                                                                       "
     ]
    },
    {
     "name": "stdout",
     "output_type": "stream",
     "text": [
      "Epoch [66/500] Train Loss: 136.7038 | Train Acc: 0.9412 | Val Loss: 137.3172 | Val Acc: 0.9403 | AUC: 0.9884 | F1: 0.9416\n"
     ]
    },
    {
     "name": "stderr",
     "output_type": "stream",
     "text": [
      "                                                                                                                       "
     ]
    },
    {
     "name": "stdout",
     "output_type": "stream",
     "text": [
      "Epoch [67/500] Train Loss: 137.2421 | Train Acc: 0.9412 | Val Loss: 136.3151 | Val Acc: 0.9381 | AUC: 0.9887 | F1: 0.9387\n"
     ]
    },
    {
     "name": "stderr",
     "output_type": "stream",
     "text": [
      "                                                                                                                       "
     ]
    },
    {
     "name": "stdout",
     "output_type": "stream",
     "text": [
      "Epoch [68/500] Train Loss: 135.7907 | Train Acc: 0.9418 | Val Loss: 150.4836 | Val Acc: 0.9338 | AUC: 0.9866 | F1: 0.9345\n"
     ]
    },
    {
     "name": "stderr",
     "output_type": "stream",
     "text": [
      "                                                                                                                       "
     ]
    },
    {
     "name": "stdout",
     "output_type": "stream",
     "text": [
      "Epoch [69/500] Train Loss: 134.9368 | Train Acc: 0.9420 | Val Loss: 137.8561 | Val Acc: 0.9382 | AUC: 0.9885 | F1: 0.9398\n"
     ]
    },
    {
     "name": "stderr",
     "output_type": "stream",
     "text": [
      "                                                                                                                       "
     ]
    },
    {
     "name": "stdout",
     "output_type": "stream",
     "text": [
      "Epoch [70/500] Train Loss: 133.4309 | Train Acc: 0.9421 | Val Loss: 130.8513 | Val Acc: 0.9418 | AUC: 0.9895 | F1: 0.9428\n"
     ]
    },
    {
     "name": "stderr",
     "output_type": "stream",
     "text": [
      "                                                                                                                       "
     ]
    },
    {
     "name": "stdout",
     "output_type": "stream",
     "text": [
      "Epoch [71/500] Train Loss: 134.7234 | Train Acc: 0.9422 | Val Loss: 135.7063 | Val Acc: 0.9389 | AUC: 0.9890 | F1: 0.9392\n"
     ]
    },
    {
     "name": "stderr",
     "output_type": "stream",
     "text": [
      "                                                                                                                       "
     ]
    },
    {
     "name": "stdout",
     "output_type": "stream",
     "text": [
      "Epoch [72/500] Train Loss: 134.7538 | Train Acc: 0.9417 | Val Loss: 134.5144 | Val Acc: 0.9404 | AUC: 0.9889 | F1: 0.9412\n"
     ]
    },
    {
     "name": "stderr",
     "output_type": "stream",
     "text": [
      "                                                                                                                       "
     ]
    },
    {
     "name": "stdout",
     "output_type": "stream",
     "text": [
      "Epoch [73/500] Train Loss: 132.6460 | Train Acc: 0.9439 | Val Loss: 135.0452 | Val Acc: 0.9409 | AUC: 0.9889 | F1: 0.9423\n"
     ]
    },
    {
     "name": "stderr",
     "output_type": "stream",
     "text": [
      "                                                                                                                       "
     ]
    },
    {
     "name": "stdout",
     "output_type": "stream",
     "text": [
      "Epoch [74/500] Train Loss: 132.1869 | Train Acc: 0.9436 | Val Loss: 130.7358 | Val Acc: 0.9414 | AUC: 0.9896 | F1: 0.9422\n"
     ]
    },
    {
     "name": "stderr",
     "output_type": "stream",
     "text": [
      "                                                                                                                       "
     ]
    },
    {
     "name": "stdout",
     "output_type": "stream",
     "text": [
      "Epoch [75/500] Train Loss: 131.8000 | Train Acc: 0.9435 | Val Loss: 138.6478 | Val Acc: 0.9392 | AUC: 0.9882 | F1: 0.9403\n"
     ]
    },
    {
     "name": "stderr",
     "output_type": "stream",
     "text": [
      "                                                                                                                       "
     ]
    },
    {
     "name": "stdout",
     "output_type": "stream",
     "text": [
      "Epoch [76/500] Train Loss: 132.1551 | Train Acc: 0.9440 | Val Loss: 141.1395 | Val Acc: 0.9377 | AUC: 0.9882 | F1: 0.9396\n"
     ]
    },
    {
     "name": "stderr",
     "output_type": "stream",
     "text": [
      "                                                                                                                       "
     ]
    },
    {
     "name": "stdout",
     "output_type": "stream",
     "text": [
      "Epoch [77/500] Train Loss: 130.7767 | Train Acc: 0.9439 | Val Loss: 128.6323 | Val Acc: 0.9425 | AUC: 0.9899 | F1: 0.9438\n"
     ]
    },
    {
     "name": "stderr",
     "output_type": "stream",
     "text": [
      "                                                                                                                       "
     ]
    },
    {
     "name": "stdout",
     "output_type": "stream",
     "text": [
      "Epoch [78/500] Train Loss: 129.6631 | Train Acc: 0.9448 | Val Loss: 136.5630 | Val Acc: 0.9375 | AUC: 0.9893 | F1: 0.9375\n"
     ]
    },
    {
     "name": "stderr",
     "output_type": "stream",
     "text": [
      "                                                                                                                       "
     ]
    },
    {
     "name": "stdout",
     "output_type": "stream",
     "text": [
      "Epoch [79/500] Train Loss: 131.5922 | Train Acc: 0.9446 | Val Loss: 134.3746 | Val Acc: 0.9409 | AUC: 0.9891 | F1: 0.9424\n"
     ]
    },
    {
     "name": "stderr",
     "output_type": "stream",
     "text": [
      "                                                                                                                       "
     ]
    },
    {
     "name": "stdout",
     "output_type": "stream",
     "text": [
      "Epoch [80/500] Train Loss: 130.6415 | Train Acc: 0.9442 | Val Loss: 139.2513 | Val Acc: 0.9373 | AUC: 0.9889 | F1: 0.9399\n"
     ]
    },
    {
     "name": "stderr",
     "output_type": "stream",
     "text": [
      "                                                                                                                       "
     ]
    },
    {
     "name": "stdout",
     "output_type": "stream",
     "text": [
      "Epoch [81/500] Train Loss: 128.6239 | Train Acc: 0.9462 | Val Loss: 133.0975 | Val Acc: 0.9419 | AUC: 0.9892 | F1: 0.9432\n"
     ]
    },
    {
     "name": "stderr",
     "output_type": "stream",
     "text": [
      "                                                                                                                       "
     ]
    },
    {
     "name": "stdout",
     "output_type": "stream",
     "text": [
      "Epoch [82/500] Train Loss: 127.8422 | Train Acc: 0.9455 | Val Loss: 130.6753 | Val Acc: 0.9417 | AUC: 0.9895 | F1: 0.9427\n"
     ]
    },
    {
     "name": "stderr",
     "output_type": "stream",
     "text": [
      "                                                                                                                       "
     ]
    },
    {
     "name": "stdout",
     "output_type": "stream",
     "text": [
      "Epoch [83/500] Train Loss: 127.9902 | Train Acc: 0.9455 | Val Loss: 134.0742 | Val Acc: 0.9394 | AUC: 0.9893 | F1: 0.9415\n"
     ]
    },
    {
     "name": "stderr",
     "output_type": "stream",
     "text": [
      "                                                                                                                       "
     ]
    },
    {
     "name": "stdout",
     "output_type": "stream",
     "text": [
      "Epoch [84/500] Train Loss: 126.6832 | Train Acc: 0.9458 | Val Loss: 128.9115 | Val Acc: 0.9433 | AUC: 0.9900 | F1: 0.9443\n"
     ]
    },
    {
     "name": "stderr",
     "output_type": "stream",
     "text": [
      "                                                                                                                       "
     ]
    },
    {
     "name": "stdout",
     "output_type": "stream",
     "text": [
      "Epoch [85/500] Train Loss: 127.9405 | Train Acc: 0.9454 | Val Loss: 125.0939 | Val Acc: 0.9456 | AUC: 0.9904 | F1: 0.9467\n"
     ]
    },
    {
     "name": "stderr",
     "output_type": "stream",
     "text": [
      "                                                                                                                       "
     ]
    },
    {
     "name": "stdout",
     "output_type": "stream",
     "text": [
      "Epoch [86/500] Train Loss: 127.4049 | Train Acc: 0.9451 | Val Loss: 130.0027 | Val Acc: 0.9425 | AUC: 0.9899 | F1: 0.9443\n"
     ]
    },
    {
     "name": "stderr",
     "output_type": "stream",
     "text": [
      "                                                                                                                       "
     ]
    },
    {
     "name": "stdout",
     "output_type": "stream",
     "text": [
      "Epoch [87/500] Train Loss: 125.0274 | Train Acc: 0.9465 | Val Loss: 127.1785 | Val Acc: 0.9426 | AUC: 0.9901 | F1: 0.9438\n"
     ]
    },
    {
     "name": "stderr",
     "output_type": "stream",
     "text": [
      "                                                                                                                       "
     ]
    },
    {
     "name": "stdout",
     "output_type": "stream",
     "text": [
      "Epoch [88/500] Train Loss: 126.9333 | Train Acc: 0.9454 | Val Loss: 128.3080 | Val Acc: 0.9431 | AUC: 0.9900 | F1: 0.9439\n"
     ]
    },
    {
     "name": "stderr",
     "output_type": "stream",
     "text": [
      "                                                                                                                       "
     ]
    },
    {
     "name": "stdout",
     "output_type": "stream",
     "text": [
      "Epoch [89/500] Train Loss: 126.3145 | Train Acc: 0.9464 | Val Loss: 123.7342 | Val Acc: 0.9450 | AUC: 0.9906 | F1: 0.9460\n"
     ]
    },
    {
     "name": "stderr",
     "output_type": "stream",
     "text": [
      "                                                                                                                       "
     ]
    },
    {
     "name": "stdout",
     "output_type": "stream",
     "text": [
      "Epoch [90/500] Train Loss: 124.5020 | Train Acc: 0.9472 | Val Loss: 128.6685 | Val Acc: 0.9428 | AUC: 0.9899 | F1: 0.9443\n"
     ]
    },
    {
     "name": "stderr",
     "output_type": "stream",
     "text": [
      "                                                                                                                       "
     ]
    },
    {
     "name": "stdout",
     "output_type": "stream",
     "text": [
      "Epoch [91/500] Train Loss: 124.7588 | Train Acc: 0.9474 | Val Loss: 126.9409 | Val Acc: 0.9416 | AUC: 0.9904 | F1: 0.9419\n"
     ]
    },
    {
     "name": "stderr",
     "output_type": "stream",
     "text": [
      "                                                                                                                       "
     ]
    },
    {
     "name": "stdout",
     "output_type": "stream",
     "text": [
      "Epoch [92/500] Train Loss: 125.2028 | Train Acc: 0.9475 | Val Loss: 126.6663 | Val Acc: 0.9433 | AUC: 0.9905 | F1: 0.9451\n"
     ]
    },
    {
     "name": "stderr",
     "output_type": "stream",
     "text": [
      "                                                                                                                       "
     ]
    },
    {
     "name": "stdout",
     "output_type": "stream",
     "text": [
      "Epoch [93/500] Train Loss: 123.3810 | Train Acc: 0.9481 | Val Loss: 121.5969 | Val Acc: 0.9462 | AUC: 0.9911 | F1: 0.9477\n"
     ]
    },
    {
     "name": "stderr",
     "output_type": "stream",
     "text": [
      "                                                                                                                       "
     ]
    },
    {
     "name": "stdout",
     "output_type": "stream",
     "text": [
      "Epoch [94/500] Train Loss: 123.6057 | Train Acc: 0.9471 | Val Loss: 124.6657 | Val Acc: 0.9446 | AUC: 0.9905 | F1: 0.9458\n"
     ]
    },
    {
     "name": "stderr",
     "output_type": "stream",
     "text": [
      "                                                                                                                       "
     ]
    },
    {
     "name": "stdout",
     "output_type": "stream",
     "text": [
      "Epoch [95/500] Train Loss: 122.9808 | Train Acc: 0.9480 | Val Loss: 120.7855 | Val Acc: 0.9470 | AUC: 0.9911 | F1: 0.9479\n"
     ]
    },
    {
     "name": "stderr",
     "output_type": "stream",
     "text": [
      "                                                                                                                       "
     ]
    },
    {
     "name": "stdout",
     "output_type": "stream",
     "text": [
      "Epoch [96/500] Train Loss: 121.4033 | Train Acc: 0.9485 | Val Loss: 124.8545 | Val Acc: 0.9445 | AUC: 0.9907 | F1: 0.9460\n"
     ]
    },
    {
     "name": "stderr",
     "output_type": "stream",
     "text": [
      "                                                                                                                       "
     ]
    },
    {
     "name": "stdout",
     "output_type": "stream",
     "text": [
      "Epoch [97/500] Train Loss: 120.6630 | Train Acc: 0.9489 | Val Loss: 123.7427 | Val Acc: 0.9453 | AUC: 0.9909 | F1: 0.9469\n"
     ]
    },
    {
     "name": "stderr",
     "output_type": "stream",
     "text": [
      "                                                                                                                       "
     ]
    },
    {
     "name": "stdout",
     "output_type": "stream",
     "text": [
      "Epoch [98/500] Train Loss: 120.3949 | Train Acc: 0.9498 | Val Loss: 126.1183 | Val Acc: 0.9433 | AUC: 0.9909 | F1: 0.9434\n"
     ]
    },
    {
     "name": "stderr",
     "output_type": "stream",
     "text": [
      "                                                                                                                       "
     ]
    },
    {
     "name": "stdout",
     "output_type": "stream",
     "text": [
      "Epoch [99/500] Train Loss: 120.9074 | Train Acc: 0.9486 | Val Loss: 125.6842 | Val Acc: 0.9450 | AUC: 0.9904 | F1: 0.9461\n"
     ]
    },
    {
     "name": "stderr",
     "output_type": "stream",
     "text": [
      "                                                                                                                       "
     ]
    },
    {
     "name": "stdout",
     "output_type": "stream",
     "text": [
      "Epoch [100/500] Train Loss: 121.0307 | Train Acc: 0.9491 | Val Loss: 122.1418 | Val Acc: 0.9460 | AUC: 0.9909 | F1: 0.9472\n"
     ]
    },
    {
     "name": "stderr",
     "output_type": "stream",
     "text": [
      "                                                                                                                       "
     ]
    },
    {
     "name": "stdout",
     "output_type": "stream",
     "text": [
      "Epoch [101/500] Train Loss: 120.7025 | Train Acc: 0.9491 | Val Loss: 119.7597 | Val Acc: 0.9475 | AUC: 0.9914 | F1: 0.9489\n"
     ]
    },
    {
     "name": "stderr",
     "output_type": "stream",
     "text": [
      "                                                                                                                       "
     ]
    },
    {
     "name": "stdout",
     "output_type": "stream",
     "text": [
      "Epoch [102/500] Train Loss: 119.8022 | Train Acc: 0.9494 | Val Loss: 130.2723 | Val Acc: 0.9415 | AUC: 0.9903 | F1: 0.9415\n"
     ]
    },
    {
     "name": "stderr",
     "output_type": "stream",
     "text": [
      "                                                                                                                       "
     ]
    },
    {
     "name": "stdout",
     "output_type": "stream",
     "text": [
      "Epoch [103/500] Train Loss: 120.4934 | Train Acc: 0.9494 | Val Loss: 120.3440 | Val Acc: 0.9469 | AUC: 0.9914 | F1: 0.9485\n"
     ]
    },
    {
     "name": "stderr",
     "output_type": "stream",
     "text": [
      "                                                                                                                       "
     ]
    },
    {
     "name": "stdout",
     "output_type": "stream",
     "text": [
      "Epoch [104/500] Train Loss: 120.0374 | Train Acc: 0.9494 | Val Loss: 122.2793 | Val Acc: 0.9462 | AUC: 0.9910 | F1: 0.9477\n"
     ]
    },
    {
     "name": "stderr",
     "output_type": "stream",
     "text": [
      "                                                                                                                       "
     ]
    },
    {
     "name": "stdout",
     "output_type": "stream",
     "text": [
      "Epoch [105/500] Train Loss: 118.3090 | Train Acc: 0.9495 | Val Loss: 120.6731 | Val Acc: 0.9480 | AUC: 0.9912 | F1: 0.9492\n"
     ]
    },
    {
     "name": "stderr",
     "output_type": "stream",
     "text": [
      "                                                                                                                       "
     ]
    },
    {
     "name": "stdout",
     "output_type": "stream",
     "text": [
      "Epoch [106/500] Train Loss: 117.2917 | Train Acc: 0.9506 | Val Loss: 122.2078 | Val Acc: 0.9465 | AUC: 0.9910 | F1: 0.9477\n"
     ]
    },
    {
     "name": "stderr",
     "output_type": "stream",
     "text": [
      "                                                                                                                       "
     ]
    },
    {
     "name": "stdout",
     "output_type": "stream",
     "text": [
      "Epoch [107/500] Train Loss: 118.7083 | Train Acc: 0.9499 | Val Loss: 120.8276 | Val Acc: 0.9460 | AUC: 0.9913 | F1: 0.9465\n"
     ]
    },
    {
     "name": "stderr",
     "output_type": "stream",
     "text": [
      "                                                                                                                       "
     ]
    },
    {
     "name": "stdout",
     "output_type": "stream",
     "text": [
      "Epoch [108/500] Train Loss: 116.3858 | Train Acc: 0.9511 | Val Loss: 118.9178 | Val Acc: 0.9479 | AUC: 0.9915 | F1: 0.9491\n"
     ]
    },
    {
     "name": "stderr",
     "output_type": "stream",
     "text": [
      "                                                                                                                       "
     ]
    },
    {
     "name": "stdout",
     "output_type": "stream",
     "text": [
      "Epoch [109/500] Train Loss: 117.6771 | Train Acc: 0.9503 | Val Loss: 117.6724 | Val Acc: 0.9479 | AUC: 0.9916 | F1: 0.9488\n"
     ]
    },
    {
     "name": "stderr",
     "output_type": "stream",
     "text": [
      "                                                                                                                       "
     ]
    },
    {
     "name": "stdout",
     "output_type": "stream",
     "text": [
      "Epoch [110/500] Train Loss: 117.8265 | Train Acc: 0.9502 | Val Loss: 120.4003 | Val Acc: 0.9473 | AUC: 0.9915 | F1: 0.9490\n"
     ]
    },
    {
     "name": "stderr",
     "output_type": "stream",
     "text": [
      "                                                                                                                       "
     ]
    },
    {
     "name": "stdout",
     "output_type": "stream",
     "text": [
      "Epoch [111/500] Train Loss: 115.8934 | Train Acc: 0.9513 | Val Loss: 116.7066 | Val Acc: 0.9484 | AUC: 0.9918 | F1: 0.9490\n"
     ]
    },
    {
     "name": "stderr",
     "output_type": "stream",
     "text": [
      "                                                                                                                       "
     ]
    },
    {
     "name": "stdout",
     "output_type": "stream",
     "text": [
      "Epoch [112/500] Train Loss: 116.2410 | Train Acc: 0.9513 | Val Loss: 123.2894 | Val Acc: 0.9445 | AUC: 0.9914 | F1: 0.9465\n"
     ]
    },
    {
     "name": "stderr",
     "output_type": "stream",
     "text": [
      "                                                                                                                       "
     ]
    },
    {
     "name": "stdout",
     "output_type": "stream",
     "text": [
      "Epoch [113/500] Train Loss: 114.5742 | Train Acc: 0.9515 | Val Loss: 119.3778 | Val Acc: 0.9471 | AUC: 0.9918 | F1: 0.9473\n"
     ]
    },
    {
     "name": "stderr",
     "output_type": "stream",
     "text": [
      "                                                                                                                       "
     ]
    },
    {
     "name": "stdout",
     "output_type": "stream",
     "text": [
      "Epoch [114/500] Train Loss: 114.4661 | Train Acc: 0.9522 | Val Loss: 120.1211 | Val Acc: 0.9467 | AUC: 0.9917 | F1: 0.9469\n"
     ]
    },
    {
     "name": "stderr",
     "output_type": "stream",
     "text": [
      "                                                                                                                       "
     ]
    },
    {
     "name": "stdout",
     "output_type": "stream",
     "text": [
      "Epoch [115/500] Train Loss: 115.7547 | Train Acc: 0.9516 | Val Loss: 117.0565 | Val Acc: 0.9483 | AUC: 0.9918 | F1: 0.9489\n"
     ]
    },
    {
     "name": "stderr",
     "output_type": "stream",
     "text": [
      "                                                                                                                       "
     ]
    },
    {
     "name": "stdout",
     "output_type": "stream",
     "text": [
      "Epoch [116/500] Train Loss: 117.1955 | Train Acc: 0.9514 | Val Loss: 139.0780 | Val Acc: 0.9412 | AUC: 0.9885 | F1: 0.9432\n"
     ]
    },
    {
     "name": "stderr",
     "output_type": "stream",
     "text": [
      "                                                                                                                       "
     ]
    },
    {
     "name": "stdout",
     "output_type": "stream",
     "text": [
      "Epoch [117/500] Train Loss: 114.4630 | Train Acc: 0.9523 | Val Loss: 120.4764 | Val Acc: 0.9476 | AUC: 0.9913 | F1: 0.9483\n"
     ]
    },
    {
     "name": "stderr",
     "output_type": "stream",
     "text": [
      "                                                                                                                       "
     ]
    },
    {
     "name": "stdout",
     "output_type": "stream",
     "text": [
      "Epoch [118/500] Train Loss: 113.1513 | Train Acc: 0.9528 | Val Loss: 116.3056 | Val Acc: 0.9493 | AUC: 0.9918 | F1: 0.9500\n"
     ]
    },
    {
     "name": "stderr",
     "output_type": "stream",
     "text": [
      "                                                                                                                       "
     ]
    },
    {
     "name": "stdout",
     "output_type": "stream",
     "text": [
      "Epoch [119/500] Train Loss: 114.0515 | Train Acc: 0.9521 | Val Loss: 114.7796 | Val Acc: 0.9506 | AUC: 0.9920 | F1: 0.9516\n"
     ]
    },
    {
     "name": "stderr",
     "output_type": "stream",
     "text": [
      "                                                                                                                       "
     ]
    },
    {
     "name": "stdout",
     "output_type": "stream",
     "text": [
      "Epoch [120/500] Train Loss: 113.9654 | Train Acc: 0.9524 | Val Loss: 116.0475 | Val Acc: 0.9507 | AUC: 0.9920 | F1: 0.9513\n"
     ]
    },
    {
     "name": "stderr",
     "output_type": "stream",
     "text": [
      "                                                                                                                       "
     ]
    },
    {
     "name": "stdout",
     "output_type": "stream",
     "text": [
      "Epoch [121/500] Train Loss: 113.1547 | Train Acc: 0.9530 | Val Loss: 117.1143 | Val Acc: 0.9493 | AUC: 0.9919 | F1: 0.9500\n"
     ]
    },
    {
     "name": "stderr",
     "output_type": "stream",
     "text": [
      "                                                                                                                       "
     ]
    },
    {
     "name": "stdout",
     "output_type": "stream",
     "text": [
      "Epoch [122/500] Train Loss: 111.5975 | Train Acc: 0.9529 | Val Loss: 121.5887 | Val Acc: 0.9473 | AUC: 0.9917 | F1: 0.9493\n"
     ]
    },
    {
     "name": "stderr",
     "output_type": "stream",
     "text": [
      "                                                                                                                       "
     ]
    },
    {
     "name": "stdout",
     "output_type": "stream",
     "text": [
      "Epoch [123/500] Train Loss: 112.1121 | Train Acc: 0.9534 | Val Loss: 121.3421 | Val Acc: 0.9463 | AUC: 0.9918 | F1: 0.9484\n"
     ]
    },
    {
     "name": "stderr",
     "output_type": "stream",
     "text": [
      "                                                                                                                       "
     ]
    },
    {
     "name": "stdout",
     "output_type": "stream",
     "text": [
      "Epoch [124/500] Train Loss: 111.1816 | Train Acc: 0.9523 | Val Loss: 115.0646 | Val Acc: 0.9497 | AUC: 0.9920 | F1: 0.9507\n"
     ]
    },
    {
     "name": "stderr",
     "output_type": "stream",
     "text": [
      "                                                                                                                       "
     ]
    },
    {
     "name": "stdout",
     "output_type": "stream",
     "text": [
      "Epoch [125/500] Train Loss: 111.1906 | Train Acc: 0.9535 | Val Loss: 114.5335 | Val Acc: 0.9507 | AUC: 0.9921 | F1: 0.9520\n"
     ]
    },
    {
     "name": "stderr",
     "output_type": "stream",
     "text": [
      "                                                                                                                       "
     ]
    },
    {
     "name": "stdout",
     "output_type": "stream",
     "text": [
      "Epoch [126/500] Train Loss: 112.3045 | Train Acc: 0.9534 | Val Loss: 117.2772 | Val Acc: 0.9496 | AUC: 0.9919 | F1: 0.9502\n"
     ]
    },
    {
     "name": "stderr",
     "output_type": "stream",
     "text": [
      "                                                                                                                       "
     ]
    },
    {
     "name": "stdout",
     "output_type": "stream",
     "text": [
      "Epoch [127/500] Train Loss: 111.1444 | Train Acc: 0.9535 | Val Loss: 112.0981 | Val Acc: 0.9528 | AUC: 0.9924 | F1: 0.9538\n"
     ]
    },
    {
     "name": "stderr",
     "output_type": "stream",
     "text": [
      "                                                                                                                       "
     ]
    },
    {
     "name": "stdout",
     "output_type": "stream",
     "text": [
      "Epoch [128/500] Train Loss: 109.5363 | Train Acc: 0.9538 | Val Loss: 122.2373 | Val Acc: 0.9472 | AUC: 0.9910 | F1: 0.9478\n"
     ]
    },
    {
     "name": "stderr",
     "output_type": "stream",
     "text": [
      "                                                                                                                       "
     ]
    },
    {
     "name": "stdout",
     "output_type": "stream",
     "text": [
      "Epoch [129/500] Train Loss: 110.2825 | Train Acc: 0.9543 | Val Loss: 111.2219 | Val Acc: 0.9517 | AUC: 0.9925 | F1: 0.9524\n"
     ]
    },
    {
     "name": "stderr",
     "output_type": "stream",
     "text": [
      "                                                                                                                       "
     ]
    },
    {
     "name": "stdout",
     "output_type": "stream",
     "text": [
      "Epoch [130/500] Train Loss: 111.0304 | Train Acc: 0.9535 | Val Loss: 110.5650 | Val Acc: 0.9519 | AUC: 0.9927 | F1: 0.9528\n"
     ]
    },
    {
     "name": "stderr",
     "output_type": "stream",
     "text": [
      "                                                                                                                       "
     ]
    },
    {
     "name": "stdout",
     "output_type": "stream",
     "text": [
      "Epoch [131/500] Train Loss: 109.3458 | Train Acc: 0.9547 | Val Loss: 115.1697 | Val Acc: 0.9497 | AUC: 0.9923 | F1: 0.9501\n"
     ]
    },
    {
     "name": "stderr",
     "output_type": "stream",
     "text": [
      "                                                                                                                       "
     ]
    },
    {
     "name": "stdout",
     "output_type": "stream",
     "text": [
      "Epoch [132/500] Train Loss: 108.2137 | Train Acc: 0.9557 | Val Loss: 123.5668 | Val Acc: 0.9476 | AUC: 0.9908 | F1: 0.9491\n"
     ]
    },
    {
     "name": "stderr",
     "output_type": "stream",
     "text": [
      "                                                                                                                       "
     ]
    },
    {
     "name": "stdout",
     "output_type": "stream",
     "text": [
      "Epoch [133/500] Train Loss: 108.2582 | Train Acc: 0.9554 | Val Loss: 113.2606 | Val Acc: 0.9515 | AUC: 0.9924 | F1: 0.9522\n"
     ]
    },
    {
     "name": "stderr",
     "output_type": "stream",
     "text": [
      "                                                                                                                       "
     ]
    },
    {
     "name": "stdout",
     "output_type": "stream",
     "text": [
      "Epoch [134/500] Train Loss: 107.9013 | Train Acc: 0.9558 | Val Loss: 112.0451 | Val Acc: 0.9517 | AUC: 0.9924 | F1: 0.9527\n"
     ]
    },
    {
     "name": "stderr",
     "output_type": "stream",
     "text": [
      "                                                                                                                       "
     ]
    },
    {
     "name": "stdout",
     "output_type": "stream",
     "text": [
      "Epoch [135/500] Train Loss: 108.2630 | Train Acc: 0.9540 | Val Loss: 124.5756 | Val Acc: 0.9479 | AUC: 0.9911 | F1: 0.9484\n"
     ]
    },
    {
     "name": "stderr",
     "output_type": "stream",
     "text": [
      "                                                                                                                       "
     ]
    },
    {
     "name": "stdout",
     "output_type": "stream",
     "text": [
      "Epoch [136/500] Train Loss: 108.6470 | Train Acc: 0.9551 | Val Loss: 136.3498 | Val Acc: 0.9433 | AUC: 0.9899 | F1: 0.9433\n"
     ]
    },
    {
     "name": "stderr",
     "output_type": "stream",
     "text": [
      "                                                                                                                       "
     ]
    },
    {
     "name": "stdout",
     "output_type": "stream",
     "text": [
      "Epoch [137/500] Train Loss: 107.2821 | Train Acc: 0.9558 | Val Loss: 109.4500 | Val Acc: 0.9539 | AUC: 0.9929 | F1: 0.9549\n"
     ]
    },
    {
     "name": "stderr",
     "output_type": "stream",
     "text": [
      "                                                                                                                       "
     ]
    },
    {
     "name": "stdout",
     "output_type": "stream",
     "text": [
      "Epoch [138/500] Train Loss: 105.2702 | Train Acc: 0.9561 | Val Loss: 114.1944 | Val Acc: 0.9510 | AUC: 0.9924 | F1: 0.9524\n"
     ]
    },
    {
     "name": "stderr",
     "output_type": "stream",
     "text": [
      "                                                                                                                       "
     ]
    },
    {
     "name": "stdout",
     "output_type": "stream",
     "text": [
      "Epoch [139/500] Train Loss: 108.1291 | Train Acc: 0.9546 | Val Loss: 108.9065 | Val Acc: 0.9538 | AUC: 0.9929 | F1: 0.9544\n"
     ]
    },
    {
     "name": "stderr",
     "output_type": "stream",
     "text": [
      "                                                                                                                       "
     ]
    },
    {
     "name": "stdout",
     "output_type": "stream",
     "text": [
      "Epoch [140/500] Train Loss: 106.7497 | Train Acc: 0.9560 | Val Loss: 108.8166 | Val Acc: 0.9524 | AUC: 0.9929 | F1: 0.9531\n"
     ]
    },
    {
     "name": "stderr",
     "output_type": "stream",
     "text": [
      "                                                                                                                       "
     ]
    },
    {
     "name": "stdout",
     "output_type": "stream",
     "text": [
      "Epoch [141/500] Train Loss: 106.0747 | Train Acc: 0.9559 | Val Loss: 115.3624 | Val Acc: 0.9504 | AUC: 0.9922 | F1: 0.9518\n"
     ]
    },
    {
     "name": "stderr",
     "output_type": "stream",
     "text": [
      "                                                                                                                       "
     ]
    },
    {
     "name": "stdout",
     "output_type": "stream",
     "text": [
      "Epoch [142/500] Train Loss: 105.1779 | Train Acc: 0.9564 | Val Loss: 108.1725 | Val Acc: 0.9534 | AUC: 0.9930 | F1: 0.9540\n"
     ]
    },
    {
     "name": "stderr",
     "output_type": "stream",
     "text": [
      "                                                                                                                       "
     ]
    },
    {
     "name": "stdout",
     "output_type": "stream",
     "text": [
      "Epoch [143/500] Train Loss: 105.2544 | Train Acc: 0.9567 | Val Loss: 106.0172 | Val Acc: 0.9555 | AUC: 0.9933 | F1: 0.9562\n"
     ]
    },
    {
     "name": "stderr",
     "output_type": "stream",
     "text": [
      "                                                                                                                       "
     ]
    },
    {
     "name": "stdout",
     "output_type": "stream",
     "text": [
      "Epoch [144/500] Train Loss: 103.9130 | Train Acc: 0.9566 | Val Loss: 107.1815 | Val Acc: 0.9547 | AUC: 0.9933 | F1: 0.9552\n"
     ]
    },
    {
     "name": "stderr",
     "output_type": "stream",
     "text": [
      "                                                                                                                       "
     ]
    },
    {
     "name": "stdout",
     "output_type": "stream",
     "text": [
      "Epoch [145/500] Train Loss: 104.9630 | Train Acc: 0.9571 | Val Loss: 109.9619 | Val Acc: 0.9528 | AUC: 0.9927 | F1: 0.9538\n"
     ]
    },
    {
     "name": "stderr",
     "output_type": "stream",
     "text": [
      "                                                                                                                       "
     ]
    },
    {
     "name": "stdout",
     "output_type": "stream",
     "text": [
      "Epoch [146/500] Train Loss: 105.3468 | Train Acc: 0.9560 | Val Loss: 107.3448 | Val Acc: 0.9540 | AUC: 0.9930 | F1: 0.9550\n"
     ]
    },
    {
     "name": "stderr",
     "output_type": "stream",
     "text": [
      "                                                                                                                       "
     ]
    },
    {
     "name": "stdout",
     "output_type": "stream",
     "text": [
      "Epoch [147/500] Train Loss: 105.5051 | Train Acc: 0.9568 | Val Loss: 115.1632 | Val Acc: 0.9506 | AUC: 0.9927 | F1: 0.9506\n"
     ]
    },
    {
     "name": "stderr",
     "output_type": "stream",
     "text": [
      "                                                                                                                       "
     ]
    },
    {
     "name": "stdout",
     "output_type": "stream",
     "text": [
      "Epoch [148/500] Train Loss: 103.9167 | Train Acc: 0.9567 | Val Loss: 109.9918 | Val Acc: 0.9529 | AUC: 0.9928 | F1: 0.9542\n"
     ]
    },
    {
     "name": "stderr",
     "output_type": "stream",
     "text": [
      "                                                                                                                       "
     ]
    },
    {
     "name": "stdout",
     "output_type": "stream",
     "text": [
      "Epoch [149/500] Train Loss: 102.5439 | Train Acc: 0.9575 | Val Loss: 111.4000 | Val Acc: 0.9511 | AUC: 0.9929 | F1: 0.9526\n"
     ]
    },
    {
     "name": "stderr",
     "output_type": "stream",
     "text": [
      "                                                                                                                       "
     ]
    },
    {
     "name": "stdout",
     "output_type": "stream",
     "text": [
      "Epoch [150/500] Train Loss: 103.7256 | Train Acc: 0.9581 | Val Loss: 105.6166 | Val Acc: 0.9546 | AUC: 0.9932 | F1: 0.9553\n"
     ]
    },
    {
     "name": "stderr",
     "output_type": "stream",
     "text": [
      "                                                                                                                       "
     ]
    },
    {
     "name": "stdout",
     "output_type": "stream",
     "text": [
      "Epoch [151/500] Train Loss: 101.7373 | Train Acc: 0.9576 | Val Loss: 107.5005 | Val Acc: 0.9555 | AUC: 0.9930 | F1: 0.9563\n"
     ]
    },
    {
     "name": "stderr",
     "output_type": "stream",
     "text": [
      "                                                                                                                       "
     ]
    },
    {
     "name": "stdout",
     "output_type": "stream",
     "text": [
      "Epoch [152/500] Train Loss: 101.7493 | Train Acc: 0.9577 | Val Loss: 124.6264 | Val Acc: 0.9479 | AUC: 0.9919 | F1: 0.9478\n"
     ]
    },
    {
     "name": "stderr",
     "output_type": "stream",
     "text": [
      "                                                                                                                       "
     ]
    },
    {
     "name": "stdout",
     "output_type": "stream",
     "text": [
      "Epoch [153/500] Train Loss: 104.4328 | Train Acc: 0.9577 | Val Loss: 107.5439 | Val Acc: 0.9536 | AUC: 0.9931 | F1: 0.9545\n"
     ]
    },
    {
     "name": "stderr",
     "output_type": "stream",
     "text": [
      "                                                                                                                       "
     ]
    },
    {
     "name": "stdout",
     "output_type": "stream",
     "text": [
      "Epoch [154/500] Train Loss: 102.6107 | Train Acc: 0.9581 | Val Loss: 105.3316 | Val Acc: 0.9561 | AUC: 0.9933 | F1: 0.9566\n"
     ]
    },
    {
     "name": "stderr",
     "output_type": "stream",
     "text": [
      "                                                                                                                       "
     ]
    },
    {
     "name": "stdout",
     "output_type": "stream",
     "text": [
      "Epoch [155/500] Train Loss: 104.1568 | Train Acc: 0.9570 | Val Loss: 102.8568 | Val Acc: 0.9572 | AUC: 0.9936 | F1: 0.9580\n"
     ]
    },
    {
     "name": "stderr",
     "output_type": "stream",
     "text": [
      "                                                                                                                       "
     ]
    },
    {
     "name": "stdout",
     "output_type": "stream",
     "text": [
      "Epoch [156/500] Train Loss: 101.1696 | Train Acc: 0.9580 | Val Loss: 105.9438 | Val Acc: 0.9568 | AUC: 0.9932 | F1: 0.9577\n"
     ]
    },
    {
     "name": "stderr",
     "output_type": "stream",
     "text": [
      "                                                                                                                       "
     ]
    },
    {
     "name": "stdout",
     "output_type": "stream",
     "text": [
      "Epoch [157/500] Train Loss: 102.4192 | Train Acc: 0.9579 | Val Loss: 105.0644 | Val Acc: 0.9557 | AUC: 0.9934 | F1: 0.9568\n"
     ]
    },
    {
     "name": "stderr",
     "output_type": "stream",
     "text": [
      "                                                                                                                       "
     ]
    },
    {
     "name": "stdout",
     "output_type": "stream",
     "text": [
      "Epoch [158/500] Train Loss: 99.6894 | Train Acc: 0.9583 | Val Loss: 106.5860 | Val Acc: 0.9557 | AUC: 0.9932 | F1: 0.9565\n"
     ]
    },
    {
     "name": "stderr",
     "output_type": "stream",
     "text": [
      "                                                                                                                       "
     ]
    },
    {
     "name": "stdout",
     "output_type": "stream",
     "text": [
      "Epoch [159/500] Train Loss: 100.3336 | Train Acc: 0.9584 | Val Loss: 105.0275 | Val Acc: 0.9557 | AUC: 0.9933 | F1: 0.9565\n"
     ]
    },
    {
     "name": "stderr",
     "output_type": "stream",
     "text": [
      "                                                                                                                       "
     ]
    },
    {
     "name": "stdout",
     "output_type": "stream",
     "text": [
      "Epoch [160/500] Train Loss: 100.1005 | Train Acc: 0.9588 | Val Loss: 111.3031 | Val Acc: 0.9529 | AUC: 0.9926 | F1: 0.9541\n"
     ]
    },
    {
     "name": "stderr",
     "output_type": "stream",
     "text": [
      "                                                                                                                       "
     ]
    },
    {
     "name": "stdout",
     "output_type": "stream",
     "text": [
      "Epoch [161/500] Train Loss: 98.3944 | Train Acc: 0.9588 | Val Loss: 104.8161 | Val Acc: 0.9570 | AUC: 0.9934 | F1: 0.9575\n"
     ]
    },
    {
     "name": "stderr",
     "output_type": "stream",
     "text": [
      "                                                                                                                       "
     ]
    },
    {
     "name": "stdout",
     "output_type": "stream",
     "text": [
      "Epoch [162/500] Train Loss: 99.3905 | Train Acc: 0.9592 | Val Loss: 103.5803 | Val Acc: 0.9554 | AUC: 0.9936 | F1: 0.9564\n"
     ]
    },
    {
     "name": "stderr",
     "output_type": "stream",
     "text": [
      "                                                                                                                       "
     ]
    },
    {
     "name": "stdout",
     "output_type": "stream",
     "text": [
      "Epoch [163/500] Train Loss: 99.2441 | Train Acc: 0.9593 | Val Loss: 105.9609 | Val Acc: 0.9557 | AUC: 0.9932 | F1: 0.9567\n"
     ]
    },
    {
     "name": "stderr",
     "output_type": "stream",
     "text": [
      "                                                                                                                       "
     ]
    },
    {
     "name": "stdout",
     "output_type": "stream",
     "text": [
      "Epoch [164/500] Train Loss: 99.3261 | Train Acc: 0.9595 | Val Loss: 114.0429 | Val Acc: 0.9521 | AUC: 0.9930 | F1: 0.9538\n"
     ]
    },
    {
     "name": "stderr",
     "output_type": "stream",
     "text": [
      "                                                                                                                       "
     ]
    },
    {
     "name": "stdout",
     "output_type": "stream",
     "text": [
      "Epoch [165/500] Train Loss: 100.2880 | Train Acc: 0.9589 | Val Loss: 105.8876 | Val Acc: 0.9559 | AUC: 0.9935 | F1: 0.9563\n",
      "⏹️ Early stopping triggered at epoch 165!\n"
     ]
    },
    {
     "name": "stderr",
     "output_type": "stream",
     "text": []
    }
   ],
   "source": [
    "writer = SummaryWriter(log_dir=\"runs/siamese_signature_experiment\")\n",
    "\n",
    "patience = 10\n",
    "best_auc = 0.0\n",
    "best_val_loss = float('inf')  # start with infinity\n",
    "wait = 0  # counter for early stopping\n",
    "\n",
    "for epoch in range(epochs):\n",
    "    train_loss, train_acc = train_step(model, train_loader, criterion, optimizer, device)\n",
    "    val_loss, val_acc, y_true, y_pred, y_prob = val_step(model, val_loader, criterion, device)\n",
    "\n",
    "    # --- Confusion Matrix ---\n",
    "    cm = confusion_matrix(y_true, y_pred)\n",
    "    disp = ConfusionMatrixDisplay(confusion_matrix=cm)\n",
    "    fig_cm, ax_cm = plt.subplots(figsize=(4, 4))\n",
    "    disp.plot(ax=ax_cm, cmap=\"Blues\", colorbar=False)\n",
    "    writer.add_figure(\"ConfusionMatrix/val\", fig_cm, global_step=epoch)\n",
    "    plt.close(fig_cm)\n",
    "\n",
    "    # --- ROC Curve and AUC ---\n",
    "    fpr, tpr, _ = roc_curve(y_true, y_prob)\n",
    "    roc_auc = auc(fpr, tpr)\n",
    "    fig_roc, ax_roc = plt.subplots()\n",
    "    ax_roc.plot(fpr, tpr, color='blue', lw=2, label=f\"AUC = {roc_auc:.3f}\")\n",
    "    ax_roc.plot([0, 1], [0, 1], color='gray', linestyle='--')\n",
    "    ax_roc.set_xlabel(\"False Positive Rate\")\n",
    "    ax_roc.set_ylabel(\"True Positive Rate\")\n",
    "    ax_roc.legend(loc=\"lower right\")\n",
    "    writer.add_figure(\"ROC/val\", fig_roc, global_step=epoch)\n",
    "    plt.close(fig_roc)\n",
    "\n",
    "    # --- Precision, Recall, F1 ---\n",
    "    precision, recall, f1, _ = precision_recall_fscore_support(\n",
    "        y_true, y_pred, average=\"binary\"\n",
    "    )\n",
    "\n",
    "    # Log scalar metrics\n",
    "    writer.add_scalar(\"Loss/train\", train_loss, epoch)\n",
    "    writer.add_scalar(\"Loss/val\", val_loss, epoch)\n",
    "    writer.add_scalar(\"Accuracy/train\", train_acc, epoch)\n",
    "    writer.add_scalar(\"Accuracy/val\", val_acc, epoch)\n",
    "    writer.add_scalar(\"AUC/val\", roc_auc, epoch)\n",
    "    writer.add_scalar(\"Precision/val\", precision, epoch)\n",
    "    writer.add_scalar(\"Recall/val\", recall, epoch)\n",
    "    writer.add_scalar(\"F1/val\", f1, epoch)\n",
    "\n",
    "    print(f\"Epoch [{epoch+1}/{epochs}] \"\n",
    "          f\"Train Loss: {train_loss:.4f} | Train Acc: {train_acc:.4f} \"\n",
    "          f\"| Val Loss: {val_loss:.4f} | Val Acc: {val_acc:.4f} \"\n",
    "          f\"| AUC: {roc_auc:.4f} | F1: {f1:.4f}\")\n",
    "\n",
    "    # --- Save best model by AUC ---\n",
    "    if roc_auc > best_auc:\n",
    "        best_auc = roc_auc\n",
    "        torch.save(model.state_dict(), \"best_siamese_signature.pth\")\n",
    "\n",
    "    # --- Early stopping based on validation loss ---\n",
    "    if val_loss < best_val_loss:\n",
    "        best_val_loss = val_loss\n",
    "        wait = 0  # reset counter if improved\n",
    "        torch.save(model.state_dict(), os.path.join(writer.log_dir, \"best_vgae_model.pth\"))\n",
    "    else:\n",
    "        wait += 1\n",
    "        if wait >= patience:\n",
    "            print(f\"⏹️ Early stopping triggered at epoch {epoch+1}!\")\n",
    "            break\n",
    "\n",
    "writer.close()\n"
   ]
  },
  {
   "cell_type": "code",
   "execution_count": null,
   "id": "2cda2868-4190-45a9-90d8-20c21aded63c",
   "metadata": {},
   "outputs": [],
   "source": [
    "checkpoint = {\n",
    "    'epoch': epoch,\n",
    "    'model_state_dict': model.state_dict(),\n",
    "    'optimizer_state_dict': optimizer.state_dict(),\n",
    "    'loss': best_val_loss,\n",
    "}\n",
    "\n",
    "torch.save(checkpoint, 'asrs_model_checkpoint.pth')"
   ]
  },
  {
   "cell_type": "code",
   "execution_count": null,
   "id": "3eb01c51-c975-432d-81ec-b4fed0b3fd75",
   "metadata": {},
   "outputs": [],
   "source": []
  }
 ],
 "metadata": {
  "kernelspec": {
   "display_name": "Python 3 (ipykernel)",
   "language": "python",
   "name": "python3"
  },
  "language_info": {
   "codemirror_mode": {
    "name": "ipython",
    "version": 3
   },
   "file_extension": ".py",
   "mimetype": "text/x-python",
   "name": "python",
   "nbconvert_exporter": "python",
   "pygments_lexer": "ipython3",
   "version": "3.10.0"
  }
 },
 "nbformat": 4,
 "nbformat_minor": 5
}
